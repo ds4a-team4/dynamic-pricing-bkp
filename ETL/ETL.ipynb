{
 "cells": [
  {
   "cell_type": "markdown",
   "metadata": {},
   "source": [
    "# Dataframe for Dynamic Pricing"
   ]
  },
  {
   "cell_type": "markdown",
   "metadata": {},
   "source": [
    "## Objectives\n",
    "\n",
    "This document intends to briefly describe one alternative for the ETL process for the Dynamic Pricing problem at Olist.  \n",
    "As the end product, we would like to have a table with the proper structure for forecasting techniques.  \n",
    "The datasets will be described along the way."
   ]
  },
  {
   "cell_type": "markdown",
   "metadata": {},
   "source": [
    "### Importing packages"
   ]
  },
  {
   "cell_type": "code",
   "execution_count": 25,
   "metadata": {},
   "outputs": [],
   "source": [
    "import pandas as pd\n",
    "import seaborn as sns\n",
    "import matplotlib.pyplot     as plt"
   ]
  },
  {
   "cell_type": "markdown",
   "metadata": {},
   "source": [
    "### Dataframe with complete range\n",
    "\n",
    "Let's start by creating a dataframe with every data point we want to measure. It will contain hourly intervals, equally spaced between two dates.  \n",
    "You can change the parameters in the cell below:"
   ]
  },
  {
   "cell_type": "code",
   "execution_count": 4,
   "metadata": {},
   "outputs": [],
   "source": [
    "freq = 'H' # 'H' is for hourly data. You can use 'D' for days, 'W' for last day of week, 'Q' for quarter, etc.\n",
    "\n",
    "start_date = '1/1/2018' # MM/DD/YYYY\n",
    "end_date = '4/1/2020' # MM/DD/YYYY"
   ]
  },
  {
   "cell_type": "code",
   "execution_count": 5,
   "metadata": {},
   "outputs": [
    {
     "data": {
      "text/html": [
       "<div>\n",
       "<style scoped>\n",
       "    .dataframe tbody tr th:only-of-type {\n",
       "        vertical-align: middle;\n",
       "    }\n",
       "\n",
       "    .dataframe tbody tr th {\n",
       "        vertical-align: top;\n",
       "    }\n",
       "\n",
       "    .dataframe thead th {\n",
       "        text-align: right;\n",
       "    }\n",
       "</style>\n",
       "<table border=\"1\" class=\"dataframe\">\n",
       "  <thead>\n",
       "    <tr style=\"text-align: right;\">\n",
       "      <th></th>\n",
       "      <th>date</th>\n",
       "    </tr>\n",
       "  </thead>\n",
       "  <tbody>\n",
       "    <tr>\n",
       "      <th>0</th>\n",
       "      <td>2018-01-01 00:00:00</td>\n",
       "    </tr>\n",
       "    <tr>\n",
       "      <th>1</th>\n",
       "      <td>2018-01-01 01:00:00</td>\n",
       "    </tr>\n",
       "  </tbody>\n",
       "</table>\n",
       "</div>"
      ],
      "text/plain": [
       "                 date\n",
       "0 2018-01-01 00:00:00\n",
       "1 2018-01-01 01:00:00"
      ]
     },
     "execution_count": 5,
     "metadata": {},
     "output_type": "execute_result"
    }
   ],
   "source": [
    "df = pd.DataFrame(data=pd.date_range(start='1/1/2018', end='4/1/2020', freq=freq),\n",
    "                  columns=['date'])\n",
    "\n",
    "df.head(2)"
   ]
  },
  {
   "cell_type": "code",
   "execution_count": 6,
   "metadata": {},
   "outputs": [
    {
     "data": {
      "text/html": [
       "<div>\n",
       "<style scoped>\n",
       "    .dataframe tbody tr th:only-of-type {\n",
       "        vertical-align: middle;\n",
       "    }\n",
       "\n",
       "    .dataframe tbody tr th {\n",
       "        vertical-align: top;\n",
       "    }\n",
       "\n",
       "    .dataframe thead th {\n",
       "        text-align: right;\n",
       "    }\n",
       "</style>\n",
       "<table border=\"1\" class=\"dataframe\">\n",
       "  <thead>\n",
       "    <tr style=\"text-align: right;\">\n",
       "      <th></th>\n",
       "      <th>date</th>\n",
       "    </tr>\n",
       "  </thead>\n",
       "  <tbody>\n",
       "    <tr>\n",
       "      <th>19703</th>\n",
       "      <td>2020-03-31 23:00:00</td>\n",
       "    </tr>\n",
       "    <tr>\n",
       "      <th>19704</th>\n",
       "      <td>2020-04-01 00:00:00</td>\n",
       "    </tr>\n",
       "  </tbody>\n",
       "</table>\n",
       "</div>"
      ],
      "text/plain": [
       "                     date\n",
       "19703 2020-03-31 23:00:00\n",
       "19704 2020-04-01 00:00:00"
      ]
     },
     "execution_count": 6,
     "metadata": {},
     "output_type": "execute_result"
    }
   ],
   "source": [
    "df.tail(2)"
   ]
  },
  {
   "cell_type": "markdown",
   "metadata": {},
   "source": [
    "### Orders dataset\n",
    "\n",
    "Let's investigate our first dataset \"orders.csv\". It contains information for every sale that was executed in a given period of time.  \n",
    "Our main idea is to aggregate sales data and merge it with our dates dataframe (df)."
   ]
  },
  {
   "cell_type": "code",
   "execution_count": 7,
   "metadata": {},
   "outputs": [],
   "source": [
    "# READING ORDERS DATA AND TRANSFORMING COLUMNS\n",
    "orders = pd.read_csv('data/orders.csv', dtype={'product_gtin':'str','origin_zip':'str',\n",
    "                                               'destination_zip':'str'})\n",
    "\n",
    "orders['purchase_timestamp'] = pd.to_datetime(orders['purchase_timestamp'])"
   ]
  },
  {
   "cell_type": "code",
   "execution_count": 8,
   "metadata": {},
   "outputs": [
    {
     "data": {
      "text/html": [
       "<div>\n",
       "<style scoped>\n",
       "    .dataframe tbody tr th:only-of-type {\n",
       "        vertical-align: middle;\n",
       "    }\n",
       "\n",
       "    .dataframe tbody tr th {\n",
       "        vertical-align: top;\n",
       "    }\n",
       "\n",
       "    .dataframe thead th {\n",
       "        text-align: right;\n",
       "    }\n",
       "</style>\n",
       "<table border=\"1\" class=\"dataframe\">\n",
       "  <thead>\n",
       "    <tr style=\"text-align: right;\">\n",
       "      <th></th>\n",
       "      <th>purchase_timestamp</th>\n",
       "      <th>seller_id</th>\n",
       "      <th>product_gtin</th>\n",
       "      <th>product_sku</th>\n",
       "      <th>channel_slug</th>\n",
       "      <th>channel_store</th>\n",
       "      <th>price</th>\n",
       "      <th>freight_value</th>\n",
       "      <th>price_freight_shift</th>\n",
       "      <th>commission_product_olist</th>\n",
       "      <th>commission_freight_olist</th>\n",
       "      <th>origin_zip</th>\n",
       "      <th>origin_state</th>\n",
       "      <th>origin_city</th>\n",
       "      <th>destination_zip</th>\n",
       "      <th>destination_state</th>\n",
       "      <th>destination_city</th>\n",
       "    </tr>\n",
       "  </thead>\n",
       "  <tbody>\n",
       "    <tr>\n",
       "      <th>0</th>\n",
       "      <td>2019-07-20 11:19:43</td>\n",
       "      <td>a97001a2-a7d2-4bd6-b0d5-1da2a2b8abd9</td>\n",
       "      <td>6952202281890</td>\n",
       "      <td>PRDWRHUYLLMFX2U0</td>\n",
       "      <td>mercadolivre</td>\n",
       "      <td>mercadolivre</td>\n",
       "      <td>82.99</td>\n",
       "      <td>20.86</td>\n",
       "      <td>0.0</td>\n",
       "      <td>0.20</td>\n",
       "      <td>0.20</td>\n",
       "      <td>01109010</td>\n",
       "      <td>SP</td>\n",
       "      <td>SAO PAULO</td>\n",
       "      <td>89265575</td>\n",
       "      <td>SC</td>\n",
       "      <td>Jaraguá do Sul</td>\n",
       "    </tr>\n",
       "    <tr>\n",
       "      <th>1</th>\n",
       "      <td>2019-11-11 20:43:23</td>\n",
       "      <td>a97001a2-a7d2-4bd6-b0d5-1da2a2b8abd9</td>\n",
       "      <td>6951003643197</td>\n",
       "      <td>PRDACYVT895VMO7H</td>\n",
       "      <td>mercadolivre</td>\n",
       "      <td>mercadolivre</td>\n",
       "      <td>119.90</td>\n",
       "      <td>0.00</td>\n",
       "      <td>0.0</td>\n",
       "      <td>0.20</td>\n",
       "      <td>0.20</td>\n",
       "      <td>01109010</td>\n",
       "      <td>SP</td>\n",
       "      <td>SAO PAULO</td>\n",
       "      <td>06040470</td>\n",
       "      <td>SP</td>\n",
       "      <td>Osasco</td>\n",
       "    </tr>\n",
       "    <tr>\n",
       "      <th>2</th>\n",
       "      <td>2020-03-01 16:25:00</td>\n",
       "      <td>c58b83e5-52de-43fe-8399-a7bc312e2aa5</td>\n",
       "      <td>7898907175302</td>\n",
       "      <td>PRDKTDU50G9FVV57</td>\n",
       "      <td>cnova</td>\n",
       "      <td>ex</td>\n",
       "      <td>39.90</td>\n",
       "      <td>14.24</td>\n",
       "      <td>0.0</td>\n",
       "      <td>0.19</td>\n",
       "      <td>0.19</td>\n",
       "      <td>20910970</td>\n",
       "      <td>RJ</td>\n",
       "      <td>RIO DE JANEIRO</td>\n",
       "      <td>22260210</td>\n",
       "      <td>RJ</td>\n",
       "      <td>Rio de Janeiro</td>\n",
       "    </tr>\n",
       "    <tr>\n",
       "      <th>3</th>\n",
       "      <td>2020-02-04 12:04:10</td>\n",
       "      <td>a97001a2-a7d2-4bd6-b0d5-1da2a2b8abd9</td>\n",
       "      <td>6951003643197</td>\n",
       "      <td>PRDACYVT895VMO7H</td>\n",
       "      <td>mercadolivre</td>\n",
       "      <td>mercadolivre</td>\n",
       "      <td>130.95</td>\n",
       "      <td>0.00</td>\n",
       "      <td>0.0</td>\n",
       "      <td>0.20</td>\n",
       "      <td>0.20</td>\n",
       "      <td>01109010</td>\n",
       "      <td>SP</td>\n",
       "      <td>SAO PAULO</td>\n",
       "      <td>89062100</td>\n",
       "      <td>SC</td>\n",
       "      <td>Blumenau</td>\n",
       "    </tr>\n",
       "    <tr>\n",
       "      <th>4</th>\n",
       "      <td>2018-12-14 13:52:19</td>\n",
       "      <td>a97001a2-a7d2-4bd6-b0d5-1da2a2b8abd9</td>\n",
       "      <td>6951003643197</td>\n",
       "      <td>PRDACYVT895VMO7H</td>\n",
       "      <td>mercadolivre</td>\n",
       "      <td>mercadolivre</td>\n",
       "      <td>128.99</td>\n",
       "      <td>21.51</td>\n",
       "      <td>0.0</td>\n",
       "      <td>0.20</td>\n",
       "      <td>0.20</td>\n",
       "      <td>01109010</td>\n",
       "      <td>SP</td>\n",
       "      <td>SAO PAULO</td>\n",
       "      <td>66055000</td>\n",
       "      <td>PA</td>\n",
       "      <td>Belém</td>\n",
       "    </tr>\n",
       "  </tbody>\n",
       "</table>\n",
       "</div>"
      ],
      "text/plain": [
       "   purchase_timestamp                             seller_id   product_gtin  \\\n",
       "0 2019-07-20 11:19:43  a97001a2-a7d2-4bd6-b0d5-1da2a2b8abd9  6952202281890   \n",
       "1 2019-11-11 20:43:23  a97001a2-a7d2-4bd6-b0d5-1da2a2b8abd9  6951003643197   \n",
       "2 2020-03-01 16:25:00  c58b83e5-52de-43fe-8399-a7bc312e2aa5  7898907175302   \n",
       "3 2020-02-04 12:04:10  a97001a2-a7d2-4bd6-b0d5-1da2a2b8abd9  6951003643197   \n",
       "4 2018-12-14 13:52:19  a97001a2-a7d2-4bd6-b0d5-1da2a2b8abd9  6951003643197   \n",
       "\n",
       "        product_sku  channel_slug channel_store   price  freight_value  \\\n",
       "0  PRDWRHUYLLMFX2U0  mercadolivre  mercadolivre   82.99          20.86   \n",
       "1  PRDACYVT895VMO7H  mercadolivre  mercadolivre  119.90           0.00   \n",
       "2  PRDKTDU50G9FVV57         cnova            ex   39.90          14.24   \n",
       "3  PRDACYVT895VMO7H  mercadolivre  mercadolivre  130.95           0.00   \n",
       "4  PRDACYVT895VMO7H  mercadolivre  mercadolivre  128.99          21.51   \n",
       "\n",
       "   price_freight_shift  commission_product_olist  commission_freight_olist  \\\n",
       "0                  0.0                      0.20                      0.20   \n",
       "1                  0.0                      0.20                      0.20   \n",
       "2                  0.0                      0.19                      0.19   \n",
       "3                  0.0                      0.20                      0.20   \n",
       "4                  0.0                      0.20                      0.20   \n",
       "\n",
       "  origin_zip origin_state     origin_city destination_zip destination_state  \\\n",
       "0   01109010           SP       SAO PAULO        89265575                SC   \n",
       "1   01109010           SP       SAO PAULO        06040470                SP   \n",
       "2   20910970           RJ  RIO DE JANEIRO        22260210                RJ   \n",
       "3   01109010           SP       SAO PAULO        89062100                SC   \n",
       "4   01109010           SP       SAO PAULO        66055000                PA   \n",
       "\n",
       "  destination_city  \n",
       "0   Jaraguá do Sul  \n",
       "1           Osasco  \n",
       "2   Rio de Janeiro  \n",
       "3         Blumenau  \n",
       "4            Belém  "
      ]
     },
     "execution_count": 8,
     "metadata": {},
     "output_type": "execute_result"
    }
   ],
   "source": [
    "orders.head()"
   ]
  },
  {
   "cell_type": "code",
   "execution_count": 9,
   "metadata": {},
   "outputs": [
    {
     "data": {
      "text/plain": [
       "647"
      ]
     },
     "execution_count": 9,
     "metadata": {},
     "output_type": "execute_result"
    }
   ],
   "source": [
    "orders.product_gtin.nunique()"
   ]
  },
  {
   "cell_type": "markdown",
   "metadata": {},
   "source": [
    "###### Selecting specific product\n",
    "\n",
    "In the orders dataset, we have sales information for 647 different products.  \n",
    "For simplification purposes, let's choose one single product for analysis and manipulation of the dataset.  \n",
    "To do so, choose a single gtin (str) in the cell below.\n",
    "\n",
    "- gtin = '7908243600137'\n",
    "- product_sku = 'PRD41RHHBF9NQR74'\n",
    "- canonical_sku = 'PRDIM5XOLWMUM0HU'\n"
   ]
  },
  {
   "cell_type": "code",
   "execution_count": 10,
   "metadata": {},
   "outputs": [],
   "source": [
    "# SELECTED GTIN\n",
    "\n",
    "gtin = '7908243600137'"
   ]
  },
  {
   "cell_type": "code",
   "execution_count": 11,
   "metadata": {},
   "outputs": [],
   "source": [
    "# FILTERING ORDERS DATASET BY CHOSEN GTIN\n",
    "\n",
    "filter_orders = orders[orders['product_gtin']==gtin][['purchase_timestamp','product_gtin',\n",
    "                                                                 'price','freight_value',\n",
    "                                                                 'commission_product_olist','commission_freight_olist']].copy()\n",
    "\n",
    "# ADD ARTIFICIAL COLUMN WITH THE NUMBER OF ORDERS -> WILL BE USED TO COUNT THE ORDERS BY HOUR\n",
    "filter_orders['orders'] = 1\n",
    "\n",
    "\n",
    "# GROUPS ORDERS BY CHOSEN FREQUENCY\n",
    "filter_orders = filter_orders.groupby([pd.Grouper(key='purchase_timestamp', freq=freq),'product_gtin'])\\\n",
    "                  .agg({'price':'mean', \n",
    "                        'freight_value':'mean',\n",
    "                        'commission_product_olist':'mean',\n",
    "                        'commission_freight_olist':'mean',\n",
    "                        'orders':'sum'}).reset_index()"
   ]
  },
  {
   "cell_type": "code",
   "execution_count": 13,
   "metadata": {},
   "outputs": [
    {
     "data": {
      "text/html": [
       "<div>\n",
       "<style scoped>\n",
       "    .dataframe tbody tr th:only-of-type {\n",
       "        vertical-align: middle;\n",
       "    }\n",
       "\n",
       "    .dataframe tbody tr th {\n",
       "        vertical-align: top;\n",
       "    }\n",
       "\n",
       "    .dataframe thead th {\n",
       "        text-align: right;\n",
       "    }\n",
       "</style>\n",
       "<table border=\"1\" class=\"dataframe\">\n",
       "  <thead>\n",
       "    <tr style=\"text-align: right;\">\n",
       "      <th></th>\n",
       "      <th>purchase_timestamp</th>\n",
       "      <th>product_gtin</th>\n",
       "      <th>price</th>\n",
       "      <th>freight_value</th>\n",
       "      <th>commission_product_olist</th>\n",
       "      <th>commission_freight_olist</th>\n",
       "      <th>orders</th>\n",
       "    </tr>\n",
       "  </thead>\n",
       "  <tbody>\n",
       "    <tr>\n",
       "      <th>0</th>\n",
       "      <td>2019-03-27 20:00:00</td>\n",
       "      <td>7908243600137</td>\n",
       "      <td>199.8</td>\n",
       "      <td>22.03</td>\n",
       "      <td>0.2</td>\n",
       "      <td>0.2</td>\n",
       "      <td>1</td>\n",
       "    </tr>\n",
       "    <tr>\n",
       "      <th>1</th>\n",
       "      <td>2019-03-28 10:00:00</td>\n",
       "      <td>7908243600137</td>\n",
       "      <td>199.8</td>\n",
       "      <td>27.14</td>\n",
       "      <td>0.2</td>\n",
       "      <td>0.2</td>\n",
       "      <td>1</td>\n",
       "    </tr>\n",
       "    <tr>\n",
       "      <th>2</th>\n",
       "      <td>2019-03-31 18:00:00</td>\n",
       "      <td>7908243600137</td>\n",
       "      <td>199.8</td>\n",
       "      <td>16.00</td>\n",
       "      <td>0.2</td>\n",
       "      <td>0.2</td>\n",
       "      <td>1</td>\n",
       "    </tr>\n",
       "    <tr>\n",
       "      <th>3</th>\n",
       "      <td>2019-04-03 10:00:00</td>\n",
       "      <td>7908243600137</td>\n",
       "      <td>199.8</td>\n",
       "      <td>16.00</td>\n",
       "      <td>0.2</td>\n",
       "      <td>0.2</td>\n",
       "      <td>1</td>\n",
       "    </tr>\n",
       "    <tr>\n",
       "      <th>4</th>\n",
       "      <td>2019-04-03 12:00:00</td>\n",
       "      <td>7908243600137</td>\n",
       "      <td>199.8</td>\n",
       "      <td>9.99</td>\n",
       "      <td>0.2</td>\n",
       "      <td>0.2</td>\n",
       "      <td>1</td>\n",
       "    </tr>\n",
       "  </tbody>\n",
       "</table>\n",
       "</div>"
      ],
      "text/plain": [
       "   purchase_timestamp   product_gtin  price  freight_value  \\\n",
       "0 2019-03-27 20:00:00  7908243600137  199.8          22.03   \n",
       "1 2019-03-28 10:00:00  7908243600137  199.8          27.14   \n",
       "2 2019-03-31 18:00:00  7908243600137  199.8          16.00   \n",
       "3 2019-04-03 10:00:00  7908243600137  199.8          16.00   \n",
       "4 2019-04-03 12:00:00  7908243600137  199.8           9.99   \n",
       "\n",
       "   commission_product_olist  commission_freight_olist  orders  \n",
       "0                       0.2                       0.2       1  \n",
       "1                       0.2                       0.2       1  \n",
       "2                       0.2                       0.2       1  \n",
       "3                       0.2                       0.2       1  \n",
       "4                       0.2                       0.2       1  "
      ]
     },
     "execution_count": 13,
     "metadata": {},
     "output_type": "execute_result"
    }
   ],
   "source": [
    "filter_orders.head()"
   ]
  },
  {
   "cell_type": "code",
   "execution_count": 14,
   "metadata": {},
   "outputs": [
    {
     "data": {
      "text/html": [
       "<div>\n",
       "<style scoped>\n",
       "    .dataframe tbody tr th:only-of-type {\n",
       "        vertical-align: middle;\n",
       "    }\n",
       "\n",
       "    .dataframe tbody tr th {\n",
       "        vertical-align: top;\n",
       "    }\n",
       "\n",
       "    .dataframe thead th {\n",
       "        text-align: right;\n",
       "    }\n",
       "</style>\n",
       "<table border=\"1\" class=\"dataframe\">\n",
       "  <thead>\n",
       "    <tr style=\"text-align: right;\">\n",
       "      <th></th>\n",
       "      <th>price</th>\n",
       "      <th>freight_value</th>\n",
       "      <th>price_freight_shift</th>\n",
       "      <th>commission_product_olist</th>\n",
       "      <th>commission_freight_olist</th>\n",
       "    </tr>\n",
       "  </thead>\n",
       "  <tbody>\n",
       "    <tr>\n",
       "      <th>count</th>\n",
       "      <td>40997.000000</td>\n",
       "      <td>40997.000000</td>\n",
       "      <td>40997.000000</td>\n",
       "      <td>40997.000000</td>\n",
       "      <td>40997.000000</td>\n",
       "    </tr>\n",
       "    <tr>\n",
       "      <th>mean</th>\n",
       "      <td>110.292697</td>\n",
       "      <td>18.431204</td>\n",
       "      <td>0.110380</td>\n",
       "      <td>0.192374</td>\n",
       "      <td>0.188754</td>\n",
       "    </tr>\n",
       "    <tr>\n",
       "      <th>std</th>\n",
       "      <td>139.258356</td>\n",
       "      <td>17.080063</td>\n",
       "      <td>1.511568</td>\n",
       "      <td>0.016219</td>\n",
       "      <td>0.030310</td>\n",
       "    </tr>\n",
       "    <tr>\n",
       "      <th>min</th>\n",
       "      <td>6.920000</td>\n",
       "      <td>0.000000</td>\n",
       "      <td>0.000000</td>\n",
       "      <td>0.090000</td>\n",
       "      <td>0.000000</td>\n",
       "    </tr>\n",
       "    <tr>\n",
       "      <th>25%</th>\n",
       "      <td>35.130000</td>\n",
       "      <td>8.530000</td>\n",
       "      <td>0.000000</td>\n",
       "      <td>0.190000</td>\n",
       "      <td>0.190000</td>\n",
       "    </tr>\n",
       "    <tr>\n",
       "      <th>50%</th>\n",
       "      <td>71.900000</td>\n",
       "      <td>16.220000</td>\n",
       "      <td>0.000000</td>\n",
       "      <td>0.200000</td>\n",
       "      <td>0.200000</td>\n",
       "    </tr>\n",
       "    <tr>\n",
       "      <th>75%</th>\n",
       "      <td>134.900000</td>\n",
       "      <td>23.110000</td>\n",
       "      <td>0.000000</td>\n",
       "      <td>0.200000</td>\n",
       "      <td>0.200000</td>\n",
       "    </tr>\n",
       "    <tr>\n",
       "      <th>max</th>\n",
       "      <td>5079.940000</td>\n",
       "      <td>344.700000</td>\n",
       "      <td>72.900000</td>\n",
       "      <td>0.250000</td>\n",
       "      <td>0.250000</td>\n",
       "    </tr>\n",
       "  </tbody>\n",
       "</table>\n",
       "</div>"
      ],
      "text/plain": [
       "              price  freight_value  price_freight_shift  \\\n",
       "count  40997.000000   40997.000000         40997.000000   \n",
       "mean     110.292697      18.431204             0.110380   \n",
       "std      139.258356      17.080063             1.511568   \n",
       "min        6.920000       0.000000             0.000000   \n",
       "25%       35.130000       8.530000             0.000000   \n",
       "50%       71.900000      16.220000             0.000000   \n",
       "75%      134.900000      23.110000             0.000000   \n",
       "max     5079.940000     344.700000            72.900000   \n",
       "\n",
       "       commission_product_olist  commission_freight_olist  \n",
       "count              40997.000000              40997.000000  \n",
       "mean                   0.192374                  0.188754  \n",
       "std                    0.016219                  0.030310  \n",
       "min                    0.090000                  0.000000  \n",
       "25%                    0.190000                  0.190000  \n",
       "50%                    0.200000                  0.200000  \n",
       "75%                    0.200000                  0.200000  \n",
       "max                    0.250000                  0.250000  "
      ]
     },
     "execution_count": 14,
     "metadata": {},
     "output_type": "execute_result"
    }
   ],
   "source": [
    "orders.describe()"
   ]
  },
  {
   "cell_type": "code",
   "execution_count": 18,
   "metadata": {},
   "outputs": [
    {
     "data": {
      "image/png": "[encoded data removed]",
      "text/plain": [
       "<Figure size 432x288 with 1 Axes>"
      ]
     },
     "metadata": {
      "needs_background": "light"
     },
     "output_type": "display_data"
    }
   ],
   "source": [
    "g = sns.boxplot(orders['price'])\n",
    "g.set_title('Boxplot of price - raw')\n",
    "g.set_xscale('log')"
   ]
  },
  {
   "cell_type": "code",
   "execution_count": 19,
   "metadata": {},
   "outputs": [
    {
     "data": {
      "image/png": "[encoded data removed]",
      "text/plain": [
       "<Figure size 432x288 with 1 Axes>"
      ]
     },
     "metadata": {
      "needs_background": "light"
     },
     "output_type": "display_data"
    }
   ],
   "source": [
    "g = sns.boxplot(orders['freight_value'])\n",
    "g.set_title('Boxplot of freight - raw')\n",
    "g.set_xscale('log')"
   ]
  },
  {
   "cell_type": "markdown",
   "metadata": {},
   "source": [
    "From the plots above, we see a broad range of prices and freights. but with mostly concentrated below 300 reais for prices and 35 reais for freight. As we have many diferents prices, we'll apply normalization by each gtin to check the distribution.\n"
   ]
  },
  {
   "cell_type": "code",
   "execution_count": 30,
   "metadata": {},
   "outputs": [
    {
     "data": {
      "text/plain": [
       "Text(0.5, 1.0, 'Boxplot of normalized prices')"
      ]
     },
     "execution_count": 30,
     "metadata": {},
     "output_type": "execute_result"
    },
    {
     "data": {
      "image/png": "[encoded data removed]",
      "text/plain": [
       "<Figure size 432x288 with 2 Axes>"
      ]
     },
     "metadata": {
      "needs_background": "light"
     },
     "output_type": "display_data"
    }
   ],
   "source": [
    "#groupby gtin, calculating min and max to normalize prices and check the distribution.\n",
    "orders_min = orders.groupby(['product_gtin'])['price'].min()\n",
    "orders_max = orders.groupby(['product_gtin'])['price'].max()\n",
    "orders_norm = orders[{'product_gtin','price'}]\n",
    "orders_norm = orders_norm.merge(orders_max, on = 'product_gtin')\n",
    "orders_norm = orders_norm.merge(orders_min, on = 'product_gtin')\n",
    "#price_x == original price, price_y == max price, price == min price. I dont know why its not working.\n",
    "orders_norm['price_norm'] = (orders_norm['price_x']- orders_norm['price']) / (orders_norm['price_y'] - orders_norm['price'])\n",
    "fig, ax = plt.subplots(1,2)\n",
    "sns.distplot(orders_norm['price_norm'], ax=ax[0]).set_title('Histogram of normalized prices')\n",
    "sns.boxplot(orders_norm['price_norm'], ax=ax[1]).set_title('Boxplot of normalized prices')\n"
   ]
  },
  {
   "cell_type": "markdown",
   "metadata": {},
   "source": [
    "It's possible observe a concentration of prices at min and max for each gtin. An the the possible 'outliers was as a matter of fact, products with differents prices. "
   ]
  },
  {
   "cell_type": "markdown",
   "metadata": {},
   "source": [
    "##TO DO!\n",
    "- we need normalize the freights to check? I think so.\n",
    "- behaviour of normalized prices over time?"
   ]
  },
  {
   "cell_type": "markdown",
   "metadata": {},
   "source": [
    "#### Identify the main products by volume"
   ]
  },
  {
   "cell_type": "code",
   "execution_count": 32,
   "metadata": {},
   "outputs": [
    {
     "data": {
      "text/html": [
       "<div>\n",
       "<style scoped>\n",
       "    .dataframe tbody tr th:only-of-type {\n",
       "        vertical-align: middle;\n",
       "    }\n",
       "\n",
       "    .dataframe tbody tr th {\n",
       "        vertical-align: top;\n",
       "    }\n",
       "\n",
       "    .dataframe thead th {\n",
       "        text-align: right;\n",
       "    }\n",
       "</style>\n",
       "<table border=\"1\" class=\"dataframe\">\n",
       "  <thead>\n",
       "    <tr style=\"text-align: right;\">\n",
       "      <th></th>\n",
       "      <th>product_gtin</th>\n",
       "      <th>n_orders</th>\n",
       "      <th>share</th>\n",
       "      <th>rank</th>\n",
       "    </tr>\n",
       "  </thead>\n",
       "  <tbody>\n",
       "    <tr>\n",
       "      <th>0</th>\n",
       "      <td>8800550956404</td>\n",
       "      <td>2859</td>\n",
       "      <td>6.973681</td>\n",
       "      <td>1</td>\n",
       "    </tr>\n",
       "    <tr>\n",
       "      <th>1</th>\n",
       "      <td>7899495703106</td>\n",
       "      <td>2079</td>\n",
       "      <td>5.071103</td>\n",
       "      <td>2</td>\n",
       "    </tr>\n",
       "    <tr>\n",
       "      <th>2</th>\n",
       "      <td>7909389621864</td>\n",
       "      <td>1999</td>\n",
       "      <td>4.875967</td>\n",
       "      <td>3</td>\n",
       "    </tr>\n",
       "    <tr>\n",
       "      <th>3</th>\n",
       "      <td>7895099385786</td>\n",
       "      <td>1652</td>\n",
       "      <td>4.029563</td>\n",
       "      <td>4</td>\n",
       "    </tr>\n",
       "    <tr>\n",
       "      <th>4</th>\n",
       "      <td>7892049060281</td>\n",
       "      <td>1614</td>\n",
       "      <td>3.936873</td>\n",
       "      <td>5</td>\n",
       "    </tr>\n",
       "  </tbody>\n",
       "</table>\n",
       "</div>"
      ],
      "text/plain": [
       "    product_gtin  n_orders     share  rank\n",
       "0  8800550956404      2859  6.973681     1\n",
       "1  7899495703106      2079  5.071103     2\n",
       "2  7909389621864      1999  4.875967     3\n",
       "3  7895099385786      1652  4.029563     4\n",
       "4  7892049060281      1614  3.936873     5"
      ]
     },
     "execution_count": 32,
     "metadata": {},
     "output_type": "execute_result"
    }
   ],
   "source": [
    "#Looking for the most frequent orders bby gtin.\n",
    "#Here, we don't have the information of how many units was each order.\n",
    "#As at least one product was sold at each order, I considered that I sell one product by order.\n",
    "#I choose an random column to count the rows and identify how many orders we have for each gtin\n",
    "orders_bygtin = orders.groupby(by=['product_gtin'])['seller_id'].count().sort_values(ascending = False).to_frame().rename(columns={'seller_id': 'n_orders'})\n",
    "orders_bygtin = orders_bygtin.reset_index()\n",
    "orders_bygtin['share'] = orders_bygtin['n_orders']/orders_bygtin['n_orders'].sum() * 100\n",
    "orders_bygtin['rank'] = orders_bygtin['share'].rank(method = 'first', ascending = False).astype(int)\n",
    "orders_bygtin.head()"
   ]
  },
  {
   "cell_type": "code",
   "execution_count": 33,
   "metadata": {},
   "outputs": [
    {
     "data": {
      "text/plain": [
       "48.86455106471205"
      ]
     },
     "execution_count": 33,
     "metadata": {},
     "output_type": "execute_result"
    }
   ],
   "source": [
    "orders_bygtin['share'][orders_bygtin['rank'] <= 20].sum()"
   ]
  },
  {
   "cell_type": "markdown",
   "metadata": {},
   "source": [
    "the top 20 (3%) products concentrates almost 50% of the orders"
   ]
  },
  {
   "cell_type": "markdown",
   "metadata": {},
   "source": [
    "#### Identify the main products by revenues"
   ]
  },
  {
   "cell_type": "code",
   "execution_count": 34,
   "metadata": {},
   "outputs": [
    {
     "data": {
      "text/plain": [
       "52.62487671893607"
      ]
     },
     "execution_count": 34,
     "metadata": {},
     "output_type": "execute_result"
    }
   ],
   "source": [
    "orders_byrev = orders.groupby(by=['product_gtin'])['price'].sum().sort_values(ascending = False).to_frame().rename(columns={'price': 'revenue'})\n",
    "orders_byrev = orders_byrev.reset_index()\n",
    "orders_byrev['share'] = orders_byrev['revenue']/orders_byrev['revenue'].sum() * 100\n",
    "orders_byrev['rank'] = orders_byrev['share'].rank(method = 'first', ascending = False).astype(int)\n",
    "orders_byrev['share'][orders_byrev['rank'] <= 20].sum()\n"
   ]
  },
  {
   "cell_type": "markdown",
   "metadata": {},
   "source": [
    "The top 20 products (3%) concentrates more than 50% of revenues"
   ]
  },
  {
   "cell_type": "markdown",
   "metadata": {},
   "source": [
    "##### merge date_range dataframe and orders\n",
    "\n",
    "Now that we have the number of sales of a given product by hour, along with its average price, average shipping values and average commissions (percentage), we can join with our date range dataframe.  \n",
    "\n",
    "The 'NaN' rows are the ones that did not have any sales."
   ]
  },
  {
   "cell_type": "code",
   "execution_count": 18,
   "metadata": {},
   "outputs": [],
   "source": [
    "# MERGE DF and Filter orders\n",
    "\n",
    "merged = pd.merge(df, filter_orders, how='left', left_on='date', right_on='purchase_timestamp')\n",
    "merged.drop('purchase_timestamp', axis=1, inplace=True)"
   ]
  },
  {
   "cell_type": "code",
   "execution_count": 19,
   "metadata": {},
   "outputs": [
    {
     "data": {
      "text/html": [
       "<div>\n",
       "<style scoped>\n",
       "    .dataframe tbody tr th:only-of-type {\n",
       "        vertical-align: middle;\n",
       "    }\n",
       "\n",
       "    .dataframe tbody tr th {\n",
       "        vertical-align: top;\n",
       "    }\n",
       "\n",
       "    .dataframe thead th {\n",
       "        text-align: right;\n",
       "    }\n",
       "</style>\n",
       "<table border=\"1\" class=\"dataframe\">\n",
       "  <thead>\n",
       "    <tr style=\"text-align: right;\">\n",
       "      <th></th>\n",
       "      <th>date</th>\n",
       "      <th>product_gtin</th>\n",
       "      <th>price</th>\n",
       "      <th>freight_value</th>\n",
       "      <th>commission_product_olist</th>\n",
       "      <th>commission_freight_olist</th>\n",
       "      <th>orders</th>\n",
       "    </tr>\n",
       "  </thead>\n",
       "  <tbody>\n",
       "    <tr>\n",
       "      <th>0</th>\n",
       "      <td>2018-01-01 00:00:00</td>\n",
       "      <td>NaN</td>\n",
       "      <td>NaN</td>\n",
       "      <td>NaN</td>\n",
       "      <td>NaN</td>\n",
       "      <td>NaN</td>\n",
       "      <td>NaN</td>\n",
       "    </tr>\n",
       "    <tr>\n",
       "      <th>1</th>\n",
       "      <td>2018-01-01 01:00:00</td>\n",
       "      <td>NaN</td>\n",
       "      <td>NaN</td>\n",
       "      <td>NaN</td>\n",
       "      <td>NaN</td>\n",
       "      <td>NaN</td>\n",
       "      <td>NaN</td>\n",
       "    </tr>\n",
       "    <tr>\n",
       "      <th>2</th>\n",
       "      <td>2018-01-01 02:00:00</td>\n",
       "      <td>NaN</td>\n",
       "      <td>NaN</td>\n",
       "      <td>NaN</td>\n",
       "      <td>NaN</td>\n",
       "      <td>NaN</td>\n",
       "      <td>NaN</td>\n",
       "    </tr>\n",
       "    <tr>\n",
       "      <th>3</th>\n",
       "      <td>2018-01-01 03:00:00</td>\n",
       "      <td>NaN</td>\n",
       "      <td>NaN</td>\n",
       "      <td>NaN</td>\n",
       "      <td>NaN</td>\n",
       "      <td>NaN</td>\n",
       "      <td>NaN</td>\n",
       "    </tr>\n",
       "    <tr>\n",
       "      <th>4</th>\n",
       "      <td>2018-01-01 04:00:00</td>\n",
       "      <td>NaN</td>\n",
       "      <td>NaN</td>\n",
       "      <td>NaN</td>\n",
       "      <td>NaN</td>\n",
       "      <td>NaN</td>\n",
       "      <td>NaN</td>\n",
       "    </tr>\n",
       "  </tbody>\n",
       "</table>\n",
       "</div>"
      ],
      "text/plain": [
       "                 date product_gtin  price  freight_value  \\\n",
       "0 2018-01-01 00:00:00          NaN    NaN            NaN   \n",
       "1 2018-01-01 01:00:00          NaN    NaN            NaN   \n",
       "2 2018-01-01 02:00:00          NaN    NaN            NaN   \n",
       "3 2018-01-01 03:00:00          NaN    NaN            NaN   \n",
       "4 2018-01-01 04:00:00          NaN    NaN            NaN   \n",
       "\n",
       "   commission_product_olist  commission_freight_olist  orders  \n",
       "0                       NaN                       NaN     NaN  \n",
       "1                       NaN                       NaN     NaN  \n",
       "2                       NaN                       NaN     NaN  \n",
       "3                       NaN                       NaN     NaN  \n",
       "4                       NaN                       NaN     NaN  "
      ]
     },
     "execution_count": 19,
     "metadata": {},
     "output_type": "execute_result"
    }
   ],
   "source": [
    "merged.head()"
   ]
  },
  {
   "cell_type": "code",
   "execution_count": 20,
   "metadata": {},
   "outputs": [
    {
     "data": {
      "text/html": [
       "<div>\n",
       "<style scoped>\n",
       "    .dataframe tbody tr th:only-of-type {\n",
       "        vertical-align: middle;\n",
       "    }\n",
       "\n",
       "    .dataframe tbody tr th {\n",
       "        vertical-align: top;\n",
       "    }\n",
       "\n",
       "    .dataframe thead th {\n",
       "        text-align: right;\n",
       "    }\n",
       "</style>\n",
       "<table border=\"1\" class=\"dataframe\">\n",
       "  <thead>\n",
       "    <tr style=\"text-align: right;\">\n",
       "      <th></th>\n",
       "      <th>date</th>\n",
       "      <th>product_gtin</th>\n",
       "      <th>price</th>\n",
       "      <th>freight_value</th>\n",
       "      <th>commission_product_olist</th>\n",
       "      <th>commission_freight_olist</th>\n",
       "      <th>orders</th>\n",
       "    </tr>\n",
       "  </thead>\n",
       "  <tbody>\n",
       "    <tr>\n",
       "      <th>10820</th>\n",
       "      <td>2019-03-27 20:00:00</td>\n",
       "      <td>7908243600137</td>\n",
       "      <td>199.8</td>\n",
       "      <td>22.03</td>\n",
       "      <td>0.2</td>\n",
       "      <td>0.2</td>\n",
       "      <td>1.0</td>\n",
       "    </tr>\n",
       "    <tr>\n",
       "      <th>10834</th>\n",
       "      <td>2019-03-28 10:00:00</td>\n",
       "      <td>7908243600137</td>\n",
       "      <td>199.8</td>\n",
       "      <td>27.14</td>\n",
       "      <td>0.2</td>\n",
       "      <td>0.2</td>\n",
       "      <td>1.0</td>\n",
       "    </tr>\n",
       "    <tr>\n",
       "      <th>10914</th>\n",
       "      <td>2019-03-31 18:00:00</td>\n",
       "      <td>7908243600137</td>\n",
       "      <td>199.8</td>\n",
       "      <td>16.00</td>\n",
       "      <td>0.2</td>\n",
       "      <td>0.2</td>\n",
       "      <td>1.0</td>\n",
       "    </tr>\n",
       "    <tr>\n",
       "      <th>10978</th>\n",
       "      <td>2019-04-03 10:00:00</td>\n",
       "      <td>7908243600137</td>\n",
       "      <td>199.8</td>\n",
       "      <td>16.00</td>\n",
       "      <td>0.2</td>\n",
       "      <td>0.2</td>\n",
       "      <td>1.0</td>\n",
       "    </tr>\n",
       "    <tr>\n",
       "      <th>10980</th>\n",
       "      <td>2019-04-03 12:00:00</td>\n",
       "      <td>7908243600137</td>\n",
       "      <td>199.8</td>\n",
       "      <td>9.99</td>\n",
       "      <td>0.2</td>\n",
       "      <td>0.2</td>\n",
       "      <td>1.0</td>\n",
       "    </tr>\n",
       "  </tbody>\n",
       "</table>\n",
       "</div>"
      ],
      "text/plain": [
       "                     date   product_gtin  price  freight_value  \\\n",
       "10820 2019-03-27 20:00:00  7908243600137  199.8          22.03   \n",
       "10834 2019-03-28 10:00:00  7908243600137  199.8          27.14   \n",
       "10914 2019-03-31 18:00:00  7908243600137  199.8          16.00   \n",
       "10978 2019-04-03 10:00:00  7908243600137  199.8          16.00   \n",
       "10980 2019-04-03 12:00:00  7908243600137  199.8           9.99   \n",
       "\n",
       "       commission_product_olist  commission_freight_olist  orders  \n",
       "10820                       0.2                       0.2     1.0  \n",
       "10834                       0.2                       0.2     1.0  \n",
       "10914                       0.2                       0.2     1.0  \n",
       "10978                       0.2                       0.2     1.0  \n",
       "10980                       0.2                       0.2     1.0  "
      ]
     },
     "execution_count": 20,
     "metadata": {},
     "output_type": "execute_result"
    }
   ],
   "source": [
    "# Checking some rows with sales\n",
    "\n",
    "merged[merged['orders'].notnull()].head()"
   ]
  },
  {
   "cell_type": "markdown",
   "metadata": {},
   "source": [
    "### Product_info dataset\n",
    "\n",
    "Another available dataset is the \"product_info.csv\". We will use it to check when a product was created in our database to fine tune the starting point of our time series."
   ]
  },
  {
   "cell_type": "code",
   "execution_count": 21,
   "metadata": {},
   "outputs": [],
   "source": [
    "prod_info = pd.read_csv('data/product_info.csv', dtype={'gtin':'str'})\n",
    "\n",
    "prod_info['created_at'] = pd.to_datetime(prod_info['created_at'])\n",
    "\n",
    "# product creation date\n",
    "\n",
    "# Get minimum creation date\n",
    "filter_prod = prod_info[prod_info['gtin']==gtin][['gtin','created_at']]\n",
    "filter_prod = filter_prod[filter_prod['created_at']==min(filter_prod['created_at'])]\n",
    "filter_prod = filter_prod.groupby(pd.Grouper(key='created_at',freq=freq)).min().reset_index()"
   ]
  },
  {
   "cell_type": "code",
   "execution_count": 22,
   "metadata": {},
   "outputs": [
    {
     "data": {
      "text/html": [
       "<div>\n",
       "<style scoped>\n",
       "    .dataframe tbody tr th:only-of-type {\n",
       "        vertical-align: middle;\n",
       "    }\n",
       "\n",
       "    .dataframe tbody tr th {\n",
       "        vertical-align: top;\n",
       "    }\n",
       "\n",
       "    .dataframe thead th {\n",
       "        text-align: right;\n",
       "    }\n",
       "</style>\n",
       "<table border=\"1\" class=\"dataframe\">\n",
       "  <thead>\n",
       "    <tr style=\"text-align: right;\">\n",
       "      <th></th>\n",
       "      <th>created_at</th>\n",
       "      <th>gtin</th>\n",
       "    </tr>\n",
       "  </thead>\n",
       "  <tbody>\n",
       "    <tr>\n",
       "      <th>0</th>\n",
       "      <td>2019-03-15 15:00:00</td>\n",
       "      <td>7908243600137</td>\n",
       "    </tr>\n",
       "  </tbody>\n",
       "</table>\n",
       "</div>"
      ],
      "text/plain": [
       "           created_at           gtin\n",
       "0 2019-03-15 15:00:00  7908243600137"
      ]
     },
     "execution_count": 22,
     "metadata": {},
     "output_type": "execute_result"
    }
   ],
   "source": [
    "filter_prod"
   ]
  },
  {
   "cell_type": "code",
   "execution_count": 23,
   "metadata": {},
   "outputs": [],
   "source": [
    "creation_date = filter_prod.iloc[0]['created_at']"
   ]
  },
  {
   "cell_type": "markdown",
   "metadata": {},
   "source": [
    "##### Filter merged based on creation date"
   ]
  },
  {
   "cell_type": "code",
   "execution_count": 24,
   "metadata": {},
   "outputs": [],
   "source": [
    "# filter merged dataframe to keep only the dates after the creation date.\n",
    "merged = merged[merged['date']>=creation_date].copy()\n",
    "\n",
    "# fill gtin backfill information\n",
    "merged['product_gtin'] = merged['product_gtin'].fillna(method='bfill')\n",
    "# fill NaN orders with 0 - no orders on that timestamp\n",
    "merged['orders'] = merged['orders'].fillna(value=0)"
   ]
  },
  {
   "cell_type": "code",
   "execution_count": 25,
   "metadata": {},
   "outputs": [
    {
     "data": {
      "text/html": [
       "<div>\n",
       "<style scoped>\n",
       "    .dataframe tbody tr th:only-of-type {\n",
       "        vertical-align: middle;\n",
       "    }\n",
       "\n",
       "    .dataframe tbody tr th {\n",
       "        vertical-align: top;\n",
       "    }\n",
       "\n",
       "    .dataframe thead th {\n",
       "        text-align: right;\n",
       "    }\n",
       "</style>\n",
       "<table border=\"1\" class=\"dataframe\">\n",
       "  <thead>\n",
       "    <tr style=\"text-align: right;\">\n",
       "      <th></th>\n",
       "      <th>date</th>\n",
       "      <th>product_gtin</th>\n",
       "      <th>price</th>\n",
       "      <th>freight_value</th>\n",
       "      <th>commission_product_olist</th>\n",
       "      <th>commission_freight_olist</th>\n",
       "      <th>orders</th>\n",
       "    </tr>\n",
       "  </thead>\n",
       "  <tbody>\n",
       "    <tr>\n",
       "      <th>10527</th>\n",
       "      <td>2019-03-15 15:00:00</td>\n",
       "      <td>7908243600137</td>\n",
       "      <td>NaN</td>\n",
       "      <td>NaN</td>\n",
       "      <td>NaN</td>\n",
       "      <td>NaN</td>\n",
       "      <td>0.0</td>\n",
       "    </tr>\n",
       "    <tr>\n",
       "      <th>10528</th>\n",
       "      <td>2019-03-15 16:00:00</td>\n",
       "      <td>7908243600137</td>\n",
       "      <td>NaN</td>\n",
       "      <td>NaN</td>\n",
       "      <td>NaN</td>\n",
       "      <td>NaN</td>\n",
       "      <td>0.0</td>\n",
       "    </tr>\n",
       "    <tr>\n",
       "      <th>10529</th>\n",
       "      <td>2019-03-15 17:00:00</td>\n",
       "      <td>7908243600137</td>\n",
       "      <td>NaN</td>\n",
       "      <td>NaN</td>\n",
       "      <td>NaN</td>\n",
       "      <td>NaN</td>\n",
       "      <td>0.0</td>\n",
       "    </tr>\n",
       "    <tr>\n",
       "      <th>10530</th>\n",
       "      <td>2019-03-15 18:00:00</td>\n",
       "      <td>7908243600137</td>\n",
       "      <td>NaN</td>\n",
       "      <td>NaN</td>\n",
       "      <td>NaN</td>\n",
       "      <td>NaN</td>\n",
       "      <td>0.0</td>\n",
       "    </tr>\n",
       "    <tr>\n",
       "      <th>10531</th>\n",
       "      <td>2019-03-15 19:00:00</td>\n",
       "      <td>7908243600137</td>\n",
       "      <td>NaN</td>\n",
       "      <td>NaN</td>\n",
       "      <td>NaN</td>\n",
       "      <td>NaN</td>\n",
       "      <td>0.0</td>\n",
       "    </tr>\n",
       "  </tbody>\n",
       "</table>\n",
       "</div>"
      ],
      "text/plain": [
       "                     date   product_gtin  price  freight_value  \\\n",
       "10527 2019-03-15 15:00:00  7908243600137    NaN            NaN   \n",
       "10528 2019-03-15 16:00:00  7908243600137    NaN            NaN   \n",
       "10529 2019-03-15 17:00:00  7908243600137    NaN            NaN   \n",
       "10530 2019-03-15 18:00:00  7908243600137    NaN            NaN   \n",
       "10531 2019-03-15 19:00:00  7908243600137    NaN            NaN   \n",
       "\n",
       "       commission_product_olist  commission_freight_olist  orders  \n",
       "10527                       NaN                       NaN     0.0  \n",
       "10528                       NaN                       NaN     0.0  \n",
       "10529                       NaN                       NaN     0.0  \n",
       "10530                       NaN                       NaN     0.0  \n",
       "10531                       NaN                       NaN     0.0  "
      ]
     },
     "execution_count": 25,
     "metadata": {},
     "output_type": "execute_result"
    }
   ],
   "source": [
    "merged.head()"
   ]
  },
  {
   "cell_type": "code",
   "execution_count": 27,
   "metadata": {},
   "outputs": [],
   "source": [
    "merged.reset_index(drop=True, inplace=True)"
   ]
  },
  {
   "cell_type": "markdown",
   "metadata": {},
   "source": [
    "### Competition\n",
    "\n",
    "Now, let's get our competitor's prices by the same frequency."
   ]
  },
  {
   "cell_type": "code",
   "execution_count": 28,
   "metadata": {},
   "outputs": [],
   "source": [
    "# Read data and format it\n",
    "competition = pd.read_csv('data/competition.csv', dtype={'gtin':'str'})\n",
    "\n",
    "competition['updated_at'] = pd.to_datetime(competition['updated_at'])\n",
    "\n",
    "# FILTER GTIN\n",
    "competition = competition[competition['gtin'] == gtin]"
   ]
  },
  {
   "cell_type": "code",
   "execution_count": 32,
   "metadata": {},
   "outputs": [
    {
     "data": {
      "text/html": [
       "<div>\n",
       "<style scoped>\n",
       "    .dataframe tbody tr th:only-of-type {\n",
       "        vertical-align: middle;\n",
       "    }\n",
       "\n",
       "    .dataframe tbody tr th {\n",
       "        vertical-align: top;\n",
       "    }\n",
       "\n",
       "    .dataframe thead th {\n",
       "        text-align: right;\n",
       "    }\n",
       "</style>\n",
       "<table border=\"1\" class=\"dataframe\">\n",
       "  <thead>\n",
       "    <tr style=\"text-align: right;\">\n",
       "      <th></th>\n",
       "      <th>updated_at</th>\n",
       "      <th>gtin</th>\n",
       "      <th>value</th>\n",
       "      <th>slug</th>\n",
       "    </tr>\n",
       "  </thead>\n",
       "  <tbody>\n",
       "    <tr>\n",
       "      <th>41107</th>\n",
       "      <td>2019-12-19 13:24:33</td>\n",
       "      <td>7908243600137</td>\n",
       "      <td>172.70</td>\n",
       "      <td>sieve-b2w-shoptime</td>\n",
       "    </tr>\n",
       "    <tr>\n",
       "      <th>41108</th>\n",
       "      <td>2019-12-18 10:51:29</td>\n",
       "      <td>7908243600137</td>\n",
       "      <td>155.43</td>\n",
       "      <td>sieve-b2w-shoptime</td>\n",
       "    </tr>\n",
       "    <tr>\n",
       "      <th>41109</th>\n",
       "      <td>2019-12-18 10:50:54</td>\n",
       "      <td>7908243600137</td>\n",
       "      <td>172.70</td>\n",
       "      <td>olist-carrefour</td>\n",
       "    </tr>\n",
       "    <tr>\n",
       "      <th>41110</th>\n",
       "      <td>2019-12-18 10:45:32</td>\n",
       "      <td>7908243600137</td>\n",
       "      <td>172.70</td>\n",
       "      <td>olist-b2w</td>\n",
       "    </tr>\n",
       "    <tr>\n",
       "      <th>41111</th>\n",
       "      <td>2019-12-18 10:31:49</td>\n",
       "      <td>7908243600137</td>\n",
       "      <td>172.70</td>\n",
       "      <td>olist-cnova</td>\n",
       "    </tr>\n",
       "  </tbody>\n",
       "</table>\n",
       "</div>"
      ],
      "text/plain": [
       "               updated_at           gtin   value                slug\n",
       "41107 2019-12-19 13:24:33  7908243600137  172.70  sieve-b2w-shoptime\n",
       "41108 2019-12-18 10:51:29  7908243600137  155.43  sieve-b2w-shoptime\n",
       "41109 2019-12-18 10:50:54  7908243600137  172.70     olist-carrefour\n",
       "41110 2019-12-18 10:45:32  7908243600137  172.70           olist-b2w\n",
       "41111 2019-12-18 10:31:49  7908243600137  172.70         olist-cnova"
      ]
     },
     "execution_count": 32,
     "metadata": {},
     "output_type": "execute_result"
    }
   ],
   "source": [
    "competition.head()"
   ]
  },
  {
   "cell_type": "code",
   "execution_count": 33,
   "metadata": {},
   "outputs": [],
   "source": [
    "# filter competition on extremely low and high prices\n",
    "std = competition['value'].std()\n",
    "mean = competition['value'].mean()\n",
    "\n",
    "competition = competition[(competition['value']>= mean-3*std) & (competition['value']<= mean+3*std)]"
   ]
  },
  {
   "cell_type": "code",
   "execution_count": 34,
   "metadata": {},
   "outputs": [],
   "source": [
    "# Group by hour and get minimum value\n",
    "competition = competition.groupby([pd.Grouper(key='updated_at', freq=freq),'gtin']).min()[['value']].reset_index()"
   ]
  },
  {
   "cell_type": "code",
   "execution_count": 35,
   "metadata": {},
   "outputs": [
    {
     "data": {
      "text/html": [
       "<div>\n",
       "<style scoped>\n",
       "    .dataframe tbody tr th:only-of-type {\n",
       "        vertical-align: middle;\n",
       "    }\n",
       "\n",
       "    .dataframe tbody tr th {\n",
       "        vertical-align: top;\n",
       "    }\n",
       "\n",
       "    .dataframe thead th {\n",
       "        text-align: right;\n",
       "    }\n",
       "</style>\n",
       "<table border=\"1\" class=\"dataframe\">\n",
       "  <thead>\n",
       "    <tr style=\"text-align: right;\">\n",
       "      <th></th>\n",
       "      <th>updated_at</th>\n",
       "      <th>gtin</th>\n",
       "      <th>value</th>\n",
       "    </tr>\n",
       "  </thead>\n",
       "  <tbody>\n",
       "    <tr>\n",
       "      <th>0</th>\n",
       "      <td>2019-03-15 15:00:00</td>\n",
       "      <td>7908243600137</td>\n",
       "      <td>217.8</td>\n",
       "    </tr>\n",
       "    <tr>\n",
       "      <th>1</th>\n",
       "      <td>2019-03-15 21:00:00</td>\n",
       "      <td>7908243600137</td>\n",
       "      <td>217.8</td>\n",
       "    </tr>\n",
       "    <tr>\n",
       "      <th>2</th>\n",
       "      <td>2019-03-19 13:00:00</td>\n",
       "      <td>7908243600137</td>\n",
       "      <td>217.8</td>\n",
       "    </tr>\n",
       "    <tr>\n",
       "      <th>3</th>\n",
       "      <td>2019-03-21 17:00:00</td>\n",
       "      <td>7908243600137</td>\n",
       "      <td>199.8</td>\n",
       "    </tr>\n",
       "    <tr>\n",
       "      <th>4</th>\n",
       "      <td>2019-04-03 16:00:00</td>\n",
       "      <td>7908243600137</td>\n",
       "      <td>219.9</td>\n",
       "    </tr>\n",
       "  </tbody>\n",
       "</table>\n",
       "</div>"
      ],
      "text/plain": [
       "           updated_at           gtin  value\n",
       "0 2019-03-15 15:00:00  7908243600137  217.8\n",
       "1 2019-03-15 21:00:00  7908243600137  217.8\n",
       "2 2019-03-19 13:00:00  7908243600137  217.8\n",
       "3 2019-03-21 17:00:00  7908243600137  199.8\n",
       "4 2019-04-03 16:00:00  7908243600137  219.9"
      ]
     },
     "execution_count": 35,
     "metadata": {},
     "output_type": "execute_result"
    }
   ],
   "source": [
    "competition.head()"
   ]
  },
  {
   "cell_type": "markdown",
   "metadata": {},
   "source": [
    "##### merge competition prices with merged dataframe"
   ]
  },
  {
   "cell_type": "code",
   "execution_count": null,
   "metadata": {},
   "outputs": [],
   "source": [
    "merged['day'] = merged['date'].apply(lambda x: x.date())"
   ]
  },
  {
   "cell_type": "code",
   "execution_count": 43,
   "metadata": {},
   "outputs": [],
   "source": [
    "merged = pd.merge(merged, competition,\n",
    "         left_on=['date','product_gtin'], right_on=['updated_at', 'gtin'],\n",
    "         how='left')\n",
    "\n",
    "merged.rename(columns={'value':'competition_price'}, inplace=True)\n",
    "\n",
    "merged = merged[['date', 'product_gtin',  'competition_price', 'price', 'freight_value',\n",
    "       'commission_product_olist', 'commission_freight_olist', 'orders']].copy()"
   ]
  },
  {
   "cell_type": "code",
   "execution_count": 46,
   "metadata": {},
   "outputs": [
    {
     "data": {
      "text/html": [
       "<div>\n",
       "<style scoped>\n",
       "    .dataframe tbody tr th:only-of-type {\n",
       "        vertical-align: middle;\n",
       "    }\n",
       "\n",
       "    .dataframe tbody tr th {\n",
       "        vertical-align: top;\n",
       "    }\n",
       "\n",
       "    .dataframe thead th {\n",
       "        text-align: right;\n",
       "    }\n",
       "</style>\n",
       "<table border=\"1\" class=\"dataframe\">\n",
       "  <thead>\n",
       "    <tr style=\"text-align: right;\">\n",
       "      <th></th>\n",
       "      <th>date</th>\n",
       "      <th>product_gtin</th>\n",
       "      <th>competition_price</th>\n",
       "      <th>competition_price</th>\n",
       "      <th>price</th>\n",
       "      <th>freight_value</th>\n",
       "      <th>commission_product_olist</th>\n",
       "      <th>commission_freight_olist</th>\n",
       "      <th>orders</th>\n",
       "    </tr>\n",
       "  </thead>\n",
       "  <tbody>\n",
       "    <tr>\n",
       "      <th>0</th>\n",
       "      <td>2019-03-15 15:00:00</td>\n",
       "      <td>7908243600137</td>\n",
       "      <td>217.8</td>\n",
       "      <td>217.8</td>\n",
       "      <td>NaN</td>\n",
       "      <td>NaN</td>\n",
       "      <td>NaN</td>\n",
       "      <td>NaN</td>\n",
       "      <td>0.0</td>\n",
       "    </tr>\n",
       "    <tr>\n",
       "      <th>1</th>\n",
       "      <td>2019-03-15 16:00:00</td>\n",
       "      <td>7908243600137</td>\n",
       "      <td>NaN</td>\n",
       "      <td>NaN</td>\n",
       "      <td>NaN</td>\n",
       "      <td>NaN</td>\n",
       "      <td>NaN</td>\n",
       "      <td>NaN</td>\n",
       "      <td>0.0</td>\n",
       "    </tr>\n",
       "    <tr>\n",
       "      <th>2</th>\n",
       "      <td>2019-03-15 17:00:00</td>\n",
       "      <td>7908243600137</td>\n",
       "      <td>NaN</td>\n",
       "      <td>NaN</td>\n",
       "      <td>NaN</td>\n",
       "      <td>NaN</td>\n",
       "      <td>NaN</td>\n",
       "      <td>NaN</td>\n",
       "      <td>0.0</td>\n",
       "    </tr>\n",
       "    <tr>\n",
       "      <th>3</th>\n",
       "      <td>2019-03-15 18:00:00</td>\n",
       "      <td>7908243600137</td>\n",
       "      <td>NaN</td>\n",
       "      <td>NaN</td>\n",
       "      <td>NaN</td>\n",
       "      <td>NaN</td>\n",
       "      <td>NaN</td>\n",
       "      <td>NaN</td>\n",
       "      <td>0.0</td>\n",
       "    </tr>\n",
       "    <tr>\n",
       "      <th>4</th>\n",
       "      <td>2019-03-15 19:00:00</td>\n",
       "      <td>7908243600137</td>\n",
       "      <td>NaN</td>\n",
       "      <td>NaN</td>\n",
       "      <td>NaN</td>\n",
       "      <td>NaN</td>\n",
       "      <td>NaN</td>\n",
       "      <td>NaN</td>\n",
       "      <td>0.0</td>\n",
       "    </tr>\n",
       "  </tbody>\n",
       "</table>\n",
       "</div>"
      ],
      "text/plain": [
       "                 date   product_gtin  competition_price  competition_price  \\\n",
       "0 2019-03-15 15:00:00  7908243600137              217.8              217.8   \n",
       "1 2019-03-15 16:00:00  7908243600137                NaN                NaN   \n",
       "2 2019-03-15 17:00:00  7908243600137                NaN                NaN   \n",
       "3 2019-03-15 18:00:00  7908243600137                NaN                NaN   \n",
       "4 2019-03-15 19:00:00  7908243600137                NaN                NaN   \n",
       "\n",
       "   price  freight_value  commission_product_olist  commission_freight_olist  \\\n",
       "0    NaN            NaN                       NaN                       NaN   \n",
       "1    NaN            NaN                       NaN                       NaN   \n",
       "2    NaN            NaN                       NaN                       NaN   \n",
       "3    NaN            NaN                       NaN                       NaN   \n",
       "4    NaN            NaN                       NaN                       NaN   \n",
       "\n",
       "   orders  \n",
       "0     0.0  \n",
       "1     0.0  \n",
       "2     0.0  \n",
       "3     0.0  \n",
       "4     0.0  "
      ]
     },
     "execution_count": 46,
     "metadata": {},
     "output_type": "execute_result"
    }
   ],
   "source": [
    "merged.head()"
   ]
  },
  {
   "cell_type": "markdown",
   "metadata": {},
   "source": [
    "We will forward fill the competition price."
   ]
  },
  {
   "cell_type": "code",
   "execution_count": 59,
   "metadata": {},
   "outputs": [],
   "source": [
    "merged['competition_price'].fillna(method='ffill', inplace=True)"
   ]
  },
  {
   "cell_type": "code",
   "execution_count": 60,
   "metadata": {},
   "outputs": [
    {
     "data": {
      "text/html": [
       "<div>\n",
       "<style scoped>\n",
       "    .dataframe tbody tr th:only-of-type {\n",
       "        vertical-align: middle;\n",
       "    }\n",
       "\n",
       "    .dataframe tbody tr th {\n",
       "        vertical-align: top;\n",
       "    }\n",
       "\n",
       "    .dataframe thead th {\n",
       "        text-align: right;\n",
       "    }\n",
       "</style>\n",
       "<table border=\"1\" class=\"dataframe\">\n",
       "  <thead>\n",
       "    <tr style=\"text-align: right;\">\n",
       "      <th></th>\n",
       "      <th>date</th>\n",
       "      <th>product_gtin</th>\n",
       "      <th>competition_price</th>\n",
       "      <th>price</th>\n",
       "      <th>freight_value</th>\n",
       "      <th>commission_product_olist</th>\n",
       "      <th>commission_freight_olist</th>\n",
       "      <th>orders</th>\n",
       "    </tr>\n",
       "  </thead>\n",
       "  <tbody>\n",
       "    <tr>\n",
       "      <th>0</th>\n",
       "      <td>2019-03-15 15:00:00</td>\n",
       "      <td>7908243600137</td>\n",
       "      <td>217.8</td>\n",
       "      <td>NaN</td>\n",
       "      <td>NaN</td>\n",
       "      <td>NaN</td>\n",
       "      <td>NaN</td>\n",
       "      <td>0.0</td>\n",
       "    </tr>\n",
       "    <tr>\n",
       "      <th>1</th>\n",
       "      <td>2019-03-15 16:00:00</td>\n",
       "      <td>7908243600137</td>\n",
       "      <td>217.8</td>\n",
       "      <td>NaN</td>\n",
       "      <td>NaN</td>\n",
       "      <td>NaN</td>\n",
       "      <td>NaN</td>\n",
       "      <td>0.0</td>\n",
       "    </tr>\n",
       "    <tr>\n",
       "      <th>2</th>\n",
       "      <td>2019-03-15 17:00:00</td>\n",
       "      <td>7908243600137</td>\n",
       "      <td>217.8</td>\n",
       "      <td>NaN</td>\n",
       "      <td>NaN</td>\n",
       "      <td>NaN</td>\n",
       "      <td>NaN</td>\n",
       "      <td>0.0</td>\n",
       "    </tr>\n",
       "    <tr>\n",
       "      <th>3</th>\n",
       "      <td>2019-03-15 18:00:00</td>\n",
       "      <td>7908243600137</td>\n",
       "      <td>217.8</td>\n",
       "      <td>NaN</td>\n",
       "      <td>NaN</td>\n",
       "      <td>NaN</td>\n",
       "      <td>NaN</td>\n",
       "      <td>0.0</td>\n",
       "    </tr>\n",
       "    <tr>\n",
       "      <th>4</th>\n",
       "      <td>2019-03-15 19:00:00</td>\n",
       "      <td>7908243600137</td>\n",
       "      <td>217.8</td>\n",
       "      <td>NaN</td>\n",
       "      <td>NaN</td>\n",
       "      <td>NaN</td>\n",
       "      <td>NaN</td>\n",
       "      <td>0.0</td>\n",
       "    </tr>\n",
       "  </tbody>\n",
       "</table>\n",
       "</div>"
      ],
      "text/plain": [
       "                 date   product_gtin  competition_price  price  freight_value  \\\n",
       "0 2019-03-15 15:00:00  7908243600137              217.8    NaN            NaN   \n",
       "1 2019-03-15 16:00:00  7908243600137              217.8    NaN            NaN   \n",
       "2 2019-03-15 17:00:00  7908243600137              217.8    NaN            NaN   \n",
       "3 2019-03-15 18:00:00  7908243600137              217.8    NaN            NaN   \n",
       "4 2019-03-15 19:00:00  7908243600137              217.8    NaN            NaN   \n",
       "\n",
       "   commission_product_olist  commission_freight_olist  orders  \n",
       "0                       NaN                       NaN     0.0  \n",
       "1                       NaN                       NaN     0.0  \n",
       "2                       NaN                       NaN     0.0  \n",
       "3                       NaN                       NaN     0.0  \n",
       "4                       NaN                       NaN     0.0  "
      ]
     },
     "execution_count": 60,
     "metadata": {},
     "output_type": "execute_result"
    }
   ],
   "source": [
    "merged.head()"
   ]
  },
  {
   "cell_type": "markdown",
   "metadata": {},
   "source": [
    "### Product type and group\n",
    "\n",
    "Let's gather some information about the type of the analyzed product.\n",
    "\n",
    "This particular gtin belongs to the product_type \"Kit para cabelo\" (Hair Care Kit).  \n",
    "The product belongs to the broader group \"beleza_saude\" (beauty_health)"
   ]
  },
  {
   "cell_type": "code",
   "execution_count": 71,
   "metadata": {},
   "outputs": [],
   "source": [
    "product_type = pd.read_csv('data/product_type.csv', dtype={'value':str})"
   ]
  },
  {
   "cell_type": "code",
   "execution_count": 72,
   "metadata": {},
   "outputs": [
    {
     "data": {
      "text/html": [
       "<div>\n",
       "<style scoped>\n",
       "    .dataframe tbody tr th:only-of-type {\n",
       "        vertical-align: middle;\n",
       "    }\n",
       "\n",
       "    .dataframe tbody tr th {\n",
       "        vertical-align: top;\n",
       "    }\n",
       "\n",
       "    .dataframe thead th {\n",
       "        text-align: right;\n",
       "    }\n",
       "</style>\n",
       "<table border=\"1\" class=\"dataframe\">\n",
       "  <thead>\n",
       "    <tr style=\"text-align: right;\">\n",
       "      <th></th>\n",
       "      <th>odin</th>\n",
       "      <th>product_type</th>\n",
       "      <th>product_type_group</th>\n",
       "      <th>identifier_type</th>\n",
       "      <th>value</th>\n",
       "    </tr>\n",
       "  </thead>\n",
       "  <tbody>\n",
       "    <tr>\n",
       "      <th>0</th>\n",
       "      <td>O1657A805FB85C4E76BDEF8E5B9037492D</td>\n",
       "      <td>Avental</td>\n",
       "      <td>vestuario</td>\n",
       "      <td>gtin</td>\n",
       "      <td>0000110010494</td>\n",
       "    </tr>\n",
       "    <tr>\n",
       "      <th>1</th>\n",
       "      <td>O14121ABC7E11848C58BE87C91943F88B6</td>\n",
       "      <td>Avental</td>\n",
       "      <td>vestuario</td>\n",
       "      <td>gtin</td>\n",
       "      <td>0000110010500</td>\n",
       "    </tr>\n",
       "    <tr>\n",
       "      <th>2</th>\n",
       "      <td>O13E8792B144BF4F44824BC80017AA7A47</td>\n",
       "      <td>Teste de condição da água</td>\n",
       "      <td>limpeza</td>\n",
       "      <td>gtin</td>\n",
       "      <td>0000116001007</td>\n",
       "    </tr>\n",
       "    <tr>\n",
       "      <th>3</th>\n",
       "      <td>O19E2B76CEE87F48E3AFB32017EFE29993</td>\n",
       "      <td>Estabilizador biológico para aquário</td>\n",
       "      <td>petshop</td>\n",
       "      <td>gtin</td>\n",
       "      <td>0000116006309</td>\n",
       "    </tr>\n",
       "    <tr>\n",
       "      <th>4</th>\n",
       "      <td>O1C5805AEDB9624FBDB43D7A4DECABA0F2</td>\n",
       "      <td>Estabilizador biológico para aquário</td>\n",
       "      <td>petshop</td>\n",
       "      <td>gtin</td>\n",
       "      <td>0000116006507</td>\n",
       "    </tr>\n",
       "  </tbody>\n",
       "</table>\n",
       "</div>"
      ],
      "text/plain": [
       "                                 odin                          product_type  \\\n",
       "0  O1657A805FB85C4E76BDEF8E5B9037492D                               Avental   \n",
       "1  O14121ABC7E11848C58BE87C91943F88B6                               Avental   \n",
       "2  O13E8792B144BF4F44824BC80017AA7A47             Teste de condição da água   \n",
       "3  O19E2B76CEE87F48E3AFB32017EFE29993  Estabilizador biológico para aquário   \n",
       "4  O1C5805AEDB9624FBDB43D7A4DECABA0F2  Estabilizador biológico para aquário   \n",
       "\n",
       "  product_type_group identifier_type          value  \n",
       "0          vestuario            gtin  0000110010494  \n",
       "1          vestuario            gtin  0000110010500  \n",
       "2            limpeza            gtin  0000116001007  \n",
       "3            petshop            gtin  0000116006309  \n",
       "4            petshop            gtin  0000116006507  "
      ]
     },
     "execution_count": 72,
     "metadata": {},
     "output_type": "execute_result"
    }
   ],
   "source": [
    "product_type.head()"
   ]
  },
  {
   "cell_type": "code",
   "execution_count": 73,
   "metadata": {},
   "outputs": [
    {
     "data": {
      "text/html": [
       "<div>\n",
       "<style scoped>\n",
       "    .dataframe tbody tr th:only-of-type {\n",
       "        vertical-align: middle;\n",
       "    }\n",
       "\n",
       "    .dataframe tbody tr th {\n",
       "        vertical-align: top;\n",
       "    }\n",
       "\n",
       "    .dataframe thead th {\n",
       "        text-align: right;\n",
       "    }\n",
       "</style>\n",
       "<table border=\"1\" class=\"dataframe\">\n",
       "  <thead>\n",
       "    <tr style=\"text-align: right;\">\n",
       "      <th></th>\n",
       "      <th>odin</th>\n",
       "      <th>product_type</th>\n",
       "      <th>product_type_group</th>\n",
       "      <th>identifier_type</th>\n",
       "      <th>value</th>\n",
       "    </tr>\n",
       "  </thead>\n",
       "  <tbody>\n",
       "    <tr>\n",
       "      <th>442047</th>\n",
       "      <td>O13611D830738843C9BC91E70EFF99163E</td>\n",
       "      <td>Kit para cabelo</td>\n",
       "      <td>beleza_saude</td>\n",
       "      <td>gtin</td>\n",
       "      <td>7908243600137</td>\n",
       "    </tr>\n",
       "  </tbody>\n",
       "</table>\n",
       "</div>"
      ],
      "text/plain": [
       "                                      odin     product_type  \\\n",
       "442047  O13611D830738843C9BC91E70EFF99163E  Kit para cabelo   \n",
       "\n",
       "       product_type_group identifier_type          value  \n",
       "442047       beleza_saude            gtin  7908243600137  "
      ]
     },
     "execution_count": 73,
     "metadata": {},
     "output_type": "execute_result"
    }
   ],
   "source": [
    "product_type[product_type['value']==gtin]"
   ]
  },
  {
   "cell_type": "code",
   "execution_count": 75,
   "metadata": {},
   "outputs": [
    {
     "data": {
      "text/plain": [
       "Index(['date', 'product_gtin', 'competition_price', 'price', 'freight_value',\n",
       "       'commission_product_olist', 'commission_freight_olist', 'orders'],\n",
       "      dtype='object')"
      ]
     },
     "execution_count": 75,
     "metadata": {},
     "output_type": "execute_result"
    }
   ],
   "source": [
    "merged.columns"
   ]
  },
  {
   "cell_type": "code",
   "execution_count": 78,
   "metadata": {},
   "outputs": [],
   "source": [
    "merged = pd.merge(left=merged, right=product_type,\n",
    "         left_on='product_gtin', right_on='value')[['date', 'product_gtin', 'competition_price',\n",
    "                                                    'price', 'freight_value', 'commission_product_olist', \n",
    "                                                    'commission_freight_olist', 'orders','product_type', \n",
    "                                                    'product_type_group']]"
   ]
  },
  {
   "cell_type": "code",
   "execution_count": 79,
   "metadata": {},
   "outputs": [
    {
     "data": {
      "text/html": [
       "<div>\n",
       "<style scoped>\n",
       "    .dataframe tbody tr th:only-of-type {\n",
       "        vertical-align: middle;\n",
       "    }\n",
       "\n",
       "    .dataframe tbody tr th {\n",
       "        vertical-align: top;\n",
       "    }\n",
       "\n",
       "    .dataframe thead th {\n",
       "        text-align: right;\n",
       "    }\n",
       "</style>\n",
       "<table border=\"1\" class=\"dataframe\">\n",
       "  <thead>\n",
       "    <tr style=\"text-align: right;\">\n",
       "      <th></th>\n",
       "      <th>date</th>\n",
       "      <th>product_gtin</th>\n",
       "      <th>competition_price</th>\n",
       "      <th>price</th>\n",
       "      <th>freight_value</th>\n",
       "      <th>commission_product_olist</th>\n",
       "      <th>commission_freight_olist</th>\n",
       "      <th>orders</th>\n",
       "      <th>product_type</th>\n",
       "      <th>product_type_group</th>\n",
       "    </tr>\n",
       "  </thead>\n",
       "  <tbody>\n",
       "    <tr>\n",
       "      <th>0</th>\n",
       "      <td>2019-03-15 15:00:00</td>\n",
       "      <td>7908243600137</td>\n",
       "      <td>217.8</td>\n",
       "      <td>NaN</td>\n",
       "      <td>NaN</td>\n",
       "      <td>NaN</td>\n",
       "      <td>NaN</td>\n",
       "      <td>0.0</td>\n",
       "      <td>Kit para cabelo</td>\n",
       "      <td>beleza_saude</td>\n",
       "    </tr>\n",
       "    <tr>\n",
       "      <th>1</th>\n",
       "      <td>2019-03-15 16:00:00</td>\n",
       "      <td>7908243600137</td>\n",
       "      <td>217.8</td>\n",
       "      <td>NaN</td>\n",
       "      <td>NaN</td>\n",
       "      <td>NaN</td>\n",
       "      <td>NaN</td>\n",
       "      <td>0.0</td>\n",
       "      <td>Kit para cabelo</td>\n",
       "      <td>beleza_saude</td>\n",
       "    </tr>\n",
       "    <tr>\n",
       "      <th>2</th>\n",
       "      <td>2019-03-15 17:00:00</td>\n",
       "      <td>7908243600137</td>\n",
       "      <td>217.8</td>\n",
       "      <td>NaN</td>\n",
       "      <td>NaN</td>\n",
       "      <td>NaN</td>\n",
       "      <td>NaN</td>\n",
       "      <td>0.0</td>\n",
       "      <td>Kit para cabelo</td>\n",
       "      <td>beleza_saude</td>\n",
       "    </tr>\n",
       "    <tr>\n",
       "      <th>3</th>\n",
       "      <td>2019-03-15 18:00:00</td>\n",
       "      <td>7908243600137</td>\n",
       "      <td>217.8</td>\n",
       "      <td>NaN</td>\n",
       "      <td>NaN</td>\n",
       "      <td>NaN</td>\n",
       "      <td>NaN</td>\n",
       "      <td>0.0</td>\n",
       "      <td>Kit para cabelo</td>\n",
       "      <td>beleza_saude</td>\n",
       "    </tr>\n",
       "    <tr>\n",
       "      <th>4</th>\n",
       "      <td>2019-03-15 19:00:00</td>\n",
       "      <td>7908243600137</td>\n",
       "      <td>217.8</td>\n",
       "      <td>NaN</td>\n",
       "      <td>NaN</td>\n",
       "      <td>NaN</td>\n",
       "      <td>NaN</td>\n",
       "      <td>0.0</td>\n",
       "      <td>Kit para cabelo</td>\n",
       "      <td>beleza_saude</td>\n",
       "    </tr>\n",
       "  </tbody>\n",
       "</table>\n",
       "</div>"
      ],
      "text/plain": [
       "                 date   product_gtin  competition_price  price  freight_value  \\\n",
       "0 2019-03-15 15:00:00  7908243600137              217.8    NaN            NaN   \n",
       "1 2019-03-15 16:00:00  7908243600137              217.8    NaN            NaN   \n",
       "2 2019-03-15 17:00:00  7908243600137              217.8    NaN            NaN   \n",
       "3 2019-03-15 18:00:00  7908243600137              217.8    NaN            NaN   \n",
       "4 2019-03-15 19:00:00  7908243600137              217.8    NaN            NaN   \n",
       "\n",
       "   commission_product_olist  commission_freight_olist  orders  \\\n",
       "0                       NaN                       NaN     0.0   \n",
       "1                       NaN                       NaN     0.0   \n",
       "2                       NaN                       NaN     0.0   \n",
       "3                       NaN                       NaN     0.0   \n",
       "4                       NaN                       NaN     0.0   \n",
       "\n",
       "      product_type product_type_group  \n",
       "0  Kit para cabelo       beleza_saude  \n",
       "1  Kit para cabelo       beleza_saude  \n",
       "2  Kit para cabelo       beleza_saude  \n",
       "3  Kit para cabelo       beleza_saude  \n",
       "4  Kit para cabelo       beleza_saude  "
      ]
     },
     "execution_count": 79,
     "metadata": {},
     "output_type": "execute_result"
    }
   ],
   "source": [
    "merged.head()"
   ]
  },
  {
   "cell_type": "markdown",
   "metadata": {},
   "source": [
    "### Olist history of prices\n",
    "### TODO\n",
    "\n",
    "For this particular case, we will only read historical data for the selected gtin. This will be changed once olist can share data on other products.  \n",
    "Due to internal issues, the price history could not be gathered.\n"
   ]
  },
  {
   "cell_type": "code",
   "execution_count": 50,
   "metadata": {},
   "outputs": [],
   "source": [
    "history = pd.read_csv('data/product_history.csv', dtype={'gtin':str})\n",
    "history['updated_at'] = pd.to_datetime(history['updated_at'])"
   ]
  },
  {
   "cell_type": "code",
   "execution_count": null,
   "metadata": {},
   "outputs": [],
   "source": []
  }
 ],
 "metadata": {
  "kernelspec": {
   "display_name": "Python 3",
   "language": "python",
   "name": "python3"
  },
  "language_info": {
   "codemirror_mode": {
    "name": "ipython",
    "version": 3
   },
   "file_extension": ".py",
   "mimetype": "text/x-python",
   "name": "python",
   "nbconvert_exporter": "python",
   "pygments_lexer": "ipython3",
   "version": "3.7.6"
  }
 },
 "nbformat": 4,
 "nbformat_minor": 4
}
