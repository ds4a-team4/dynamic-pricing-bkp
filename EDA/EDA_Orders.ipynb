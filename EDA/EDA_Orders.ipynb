{
 "cells": [
  {
   "cell_type": "code",
   "execution_count": 1,
   "metadata": {},
   "outputs": [],
   "source": [
    "import datetime              as dt\n",
    "import numpy                 as np\n",
    "import pandas                as pd\n",
    "import matplotlib.pyplot     as plt\n",
    "import seaborn               as sns\n",
    "import sklearn.metrics       as Metrics\n",
    "import pandas                as pd\n",
    "import matplotlib.pyplot     as plt"
   ]
  },
  {
   "cell_type": "code",
   "execution_count": 2,
   "metadata": {},
   "outputs": [
    {
     "name": "stderr",
     "output_type": "stream",
     "text": [
      "/Users/leonardogomescardoso/opt/anaconda3/envs/case_7.1/lib/python3.7/site-packages/IPython/core/interactiveshell.py:3063: DtypeWarning: Columns (14) have mixed types.Specify dtype option on import or set low_memory=False.\n",
      "  interactivity=interactivity, compiler=compiler, result=result)\n"
     ]
    },
    {
     "data": {
      "text/html": [
       "<div>\n",
       "<style scoped>\n",
       "    .dataframe tbody tr th:only-of-type {\n",
       "        vertical-align: middle;\n",
       "    }\n",
       "\n",
       "    .dataframe tbody tr th {\n",
       "        vertical-align: top;\n",
       "    }\n",
       "\n",
       "    .dataframe thead th {\n",
       "        text-align: right;\n",
       "    }\n",
       "</style>\n",
       "<table border=\"1\" class=\"dataframe\">\n",
       "  <thead>\n",
       "    <tr style=\"text-align: right;\">\n",
       "      <th></th>\n",
       "      <th>purchase_timestamp</th>\n",
       "      <th>seller_id</th>\n",
       "      <th>product_gtin</th>\n",
       "      <th>product_sku</th>\n",
       "      <th>channel_slug</th>\n",
       "      <th>channel_store</th>\n",
       "      <th>price</th>\n",
       "      <th>freight_value</th>\n",
       "      <th>price_freight_shift</th>\n",
       "      <th>commission_product_olist</th>\n",
       "      <th>commission_freight_olist</th>\n",
       "      <th>origin_zip</th>\n",
       "      <th>origin_state</th>\n",
       "      <th>origin_city</th>\n",
       "      <th>destination_zip</th>\n",
       "      <th>destination_state</th>\n",
       "      <th>destination_city</th>\n",
       "    </tr>\n",
       "  </thead>\n",
       "  <tbody>\n",
       "    <tr>\n",
       "      <th>0</th>\n",
       "      <td>2019-07-20 11:19:43</td>\n",
       "      <td>a97001a2-a7d2-4bd6-b0d5-1da2a2b8abd9</td>\n",
       "      <td>6952202281890</td>\n",
       "      <td>PRDWRHUYLLMFX2U0</td>\n",
       "      <td>mercadolivre</td>\n",
       "      <td>mercadolivre</td>\n",
       "      <td>82.99</td>\n",
       "      <td>20.86</td>\n",
       "      <td>0.0</td>\n",
       "      <td>0.20</td>\n",
       "      <td>0.20</td>\n",
       "      <td>1109010</td>\n",
       "      <td>SP</td>\n",
       "      <td>SAO PAULO</td>\n",
       "      <td>89265575</td>\n",
       "      <td>SC</td>\n",
       "      <td>Jaraguá do Sul</td>\n",
       "    </tr>\n",
       "    <tr>\n",
       "      <th>1</th>\n",
       "      <td>2019-11-11 20:43:23</td>\n",
       "      <td>a97001a2-a7d2-4bd6-b0d5-1da2a2b8abd9</td>\n",
       "      <td>6951003643197</td>\n",
       "      <td>PRDACYVT895VMO7H</td>\n",
       "      <td>mercadolivre</td>\n",
       "      <td>mercadolivre</td>\n",
       "      <td>119.90</td>\n",
       "      <td>0.00</td>\n",
       "      <td>0.0</td>\n",
       "      <td>0.20</td>\n",
       "      <td>0.20</td>\n",
       "      <td>1109010</td>\n",
       "      <td>SP</td>\n",
       "      <td>SAO PAULO</td>\n",
       "      <td>06040470</td>\n",
       "      <td>SP</td>\n",
       "      <td>Osasco</td>\n",
       "    </tr>\n",
       "    <tr>\n",
       "      <th>2</th>\n",
       "      <td>2020-03-01 16:25:00</td>\n",
       "      <td>c58b83e5-52de-43fe-8399-a7bc312e2aa5</td>\n",
       "      <td>7898907175302</td>\n",
       "      <td>PRDKTDU50G9FVV57</td>\n",
       "      <td>cnova</td>\n",
       "      <td>ex</td>\n",
       "      <td>39.90</td>\n",
       "      <td>14.24</td>\n",
       "      <td>0.0</td>\n",
       "      <td>0.19</td>\n",
       "      <td>0.19</td>\n",
       "      <td>20910970</td>\n",
       "      <td>RJ</td>\n",
       "      <td>RIO DE JANEIRO</td>\n",
       "      <td>22260210</td>\n",
       "      <td>RJ</td>\n",
       "      <td>Rio de Janeiro</td>\n",
       "    </tr>\n",
       "    <tr>\n",
       "      <th>3</th>\n",
       "      <td>2020-02-04 12:04:10</td>\n",
       "      <td>a97001a2-a7d2-4bd6-b0d5-1da2a2b8abd9</td>\n",
       "      <td>6951003643197</td>\n",
       "      <td>PRDACYVT895VMO7H</td>\n",
       "      <td>mercadolivre</td>\n",
       "      <td>mercadolivre</td>\n",
       "      <td>130.95</td>\n",
       "      <td>0.00</td>\n",
       "      <td>0.0</td>\n",
       "      <td>0.20</td>\n",
       "      <td>0.20</td>\n",
       "      <td>1109010</td>\n",
       "      <td>SP</td>\n",
       "      <td>SAO PAULO</td>\n",
       "      <td>89062100</td>\n",
       "      <td>SC</td>\n",
       "      <td>Blumenau</td>\n",
       "    </tr>\n",
       "    <tr>\n",
       "      <th>4</th>\n",
       "      <td>2018-12-14 13:52:19</td>\n",
       "      <td>a97001a2-a7d2-4bd6-b0d5-1da2a2b8abd9</td>\n",
       "      <td>6951003643197</td>\n",
       "      <td>PRDACYVT895VMO7H</td>\n",
       "      <td>mercadolivre</td>\n",
       "      <td>mercadolivre</td>\n",
       "      <td>128.99</td>\n",
       "      <td>21.51</td>\n",
       "      <td>0.0</td>\n",
       "      <td>0.20</td>\n",
       "      <td>0.20</td>\n",
       "      <td>1109010</td>\n",
       "      <td>SP</td>\n",
       "      <td>SAO PAULO</td>\n",
       "      <td>66055000</td>\n",
       "      <td>PA</td>\n",
       "      <td>Belém</td>\n",
       "    </tr>\n",
       "  </tbody>\n",
       "</table>\n",
       "</div>"
      ],
      "text/plain": [
       "    purchase_timestamp                             seller_id   product_gtin  \\\n",
       "0  2019-07-20 11:19:43  a97001a2-a7d2-4bd6-b0d5-1da2a2b8abd9  6952202281890   \n",
       "1  2019-11-11 20:43:23  a97001a2-a7d2-4bd6-b0d5-1da2a2b8abd9  6951003643197   \n",
       "2  2020-03-01 16:25:00  c58b83e5-52de-43fe-8399-a7bc312e2aa5  7898907175302   \n",
       "3  2020-02-04 12:04:10  a97001a2-a7d2-4bd6-b0d5-1da2a2b8abd9  6951003643197   \n",
       "4  2018-12-14 13:52:19  a97001a2-a7d2-4bd6-b0d5-1da2a2b8abd9  6951003643197   \n",
       "\n",
       "        product_sku  channel_slug channel_store   price  freight_value  \\\n",
       "0  PRDWRHUYLLMFX2U0  mercadolivre  mercadolivre   82.99          20.86   \n",
       "1  PRDACYVT895VMO7H  mercadolivre  mercadolivre  119.90           0.00   \n",
       "2  PRDKTDU50G9FVV57         cnova            ex   39.90          14.24   \n",
       "3  PRDACYVT895VMO7H  mercadolivre  mercadolivre  130.95           0.00   \n",
       "4  PRDACYVT895VMO7H  mercadolivre  mercadolivre  128.99          21.51   \n",
       "\n",
       "   price_freight_shift  commission_product_olist  commission_freight_olist  \\\n",
       "0                  0.0                      0.20                      0.20   \n",
       "1                  0.0                      0.20                      0.20   \n",
       "2                  0.0                      0.19                      0.19   \n",
       "3                  0.0                      0.20                      0.20   \n",
       "4                  0.0                      0.20                      0.20   \n",
       "\n",
       "   origin_zip origin_state     origin_city destination_zip destination_state  \\\n",
       "0     1109010           SP       SAO PAULO        89265575                SC   \n",
       "1     1109010           SP       SAO PAULO        06040470                SP   \n",
       "2    20910970           RJ  RIO DE JANEIRO        22260210                RJ   \n",
       "3     1109010           SP       SAO PAULO        89062100                SC   \n",
       "4     1109010           SP       SAO PAULO        66055000                PA   \n",
       "\n",
       "  destination_city  \n",
       "0   Jaraguá do Sul  \n",
       "1           Osasco  \n",
       "2   Rio de Janeiro  \n",
       "3         Blumenau  \n",
       "4            Belém  "
      ]
     },
     "execution_count": 2,
     "metadata": {},
     "output_type": "execute_result"
    }
   ],
   "source": [
    "#downloading product orders dataset. to first trials.\n",
    "#do we have to reference the 'read_csv'direct to the github folder?\n",
    "df = pd.read_csv('https://bsa-correlation-one.s3.amazonaws.com/202003131045_orders.csv')\n",
    "df.head(5)"
   ]
  },
  {
   "cell_type": "code",
   "execution_count": 3,
   "metadata": {},
   "outputs": [
    {
     "data": {
      "text/html": [
       "<div>\n",
       "<style scoped>\n",
       "    .dataframe tbody tr th:only-of-type {\n",
       "        vertical-align: middle;\n",
       "    }\n",
       "\n",
       "    .dataframe tbody tr th {\n",
       "        vertical-align: top;\n",
       "    }\n",
       "\n",
       "    .dataframe thead th {\n",
       "        text-align: right;\n",
       "    }\n",
       "</style>\n",
       "<table border=\"1\" class=\"dataframe\">\n",
       "  <thead>\n",
       "    <tr style=\"text-align: right;\">\n",
       "      <th></th>\n",
       "      <th>purchase_timestamp</th>\n",
       "      <th>seller_id</th>\n",
       "      <th>product_gtin</th>\n",
       "      <th>product_sku</th>\n",
       "      <th>channel_slug</th>\n",
       "      <th>channel_store</th>\n",
       "      <th>price</th>\n",
       "      <th>freight_value</th>\n",
       "      <th>price_freight_shift</th>\n",
       "      <th>commission_product_olist</th>\n",
       "      <th>commission_freight_olist</th>\n",
       "      <th>origin_zip</th>\n",
       "      <th>origin_state</th>\n",
       "      <th>origin_city</th>\n",
       "      <th>destination_zip</th>\n",
       "      <th>destination_state</th>\n",
       "      <th>destination_city</th>\n",
       "      <th>date</th>\n",
       "    </tr>\n",
       "  </thead>\n",
       "  <tbody>\n",
       "    <tr>\n",
       "      <th>24613</th>\n",
       "      <td>2015-09-23 13:00:13</td>\n",
       "      <td>ae3537b0-1bba-4690-8219-d4be662e1f6a</td>\n",
       "      <td>7899893323067</td>\n",
       "      <td>OLT1FE68051DD0E</td>\n",
       "      <td>cnova</td>\n",
       "      <td>cnova</td>\n",
       "      <td>168.00</td>\n",
       "      <td>0.0</td>\n",
       "      <td>0.0</td>\n",
       "      <td>0.20</td>\n",
       "      <td>0.00</td>\n",
       "      <td>5138100</td>\n",
       "      <td>SP</td>\n",
       "      <td>São Paulo</td>\n",
       "      <td>95720000</td>\n",
       "      <td>RS</td>\n",
       "      <td>Garibaldi</td>\n",
       "      <td>2015-09-23</td>\n",
       "    </tr>\n",
       "    <tr>\n",
       "      <th>36494</th>\n",
       "      <td>2020-03-13 07:37:36</td>\n",
       "      <td>5fc08652-2e29-45c8-a967-428d73dd35e0</td>\n",
       "      <td>7897181941436</td>\n",
       "      <td>PRD4ZU8AMTULO709</td>\n",
       "      <td>mercadolivre</td>\n",
       "      <td>mercadolivre</td>\n",
       "      <td>94.05</td>\n",
       "      <td>0.0</td>\n",
       "      <td>0.0</td>\n",
       "      <td>0.16</td>\n",
       "      <td>0.16</td>\n",
       "      <td>6422120</td>\n",
       "      <td>SP</td>\n",
       "      <td>Barueri</td>\n",
       "      <td>24210200</td>\n",
       "      <td>RJ</td>\n",
       "      <td>Niterói</td>\n",
       "      <td>2020-03-13</td>\n",
       "    </tr>\n",
       "  </tbody>\n",
       "</table>\n",
       "</div>"
      ],
      "text/plain": [
       "       purchase_timestamp                             seller_id  \\\n",
       "24613 2015-09-23 13:00:13  ae3537b0-1bba-4690-8219-d4be662e1f6a   \n",
       "36494 2020-03-13 07:37:36  5fc08652-2e29-45c8-a967-428d73dd35e0   \n",
       "\n",
       "        product_gtin       product_sku  channel_slug channel_store   price  \\\n",
       "24613  7899893323067   OLT1FE68051DD0E         cnova         cnova  168.00   \n",
       "36494  7897181941436  PRD4ZU8AMTULO709  mercadolivre  mercadolivre   94.05   \n",
       "\n",
       "       freight_value  price_freight_shift  commission_product_olist  \\\n",
       "24613            0.0                  0.0                      0.20   \n",
       "36494            0.0                  0.0                      0.16   \n",
       "\n",
       "       commission_freight_olist  origin_zip origin_state origin_city  \\\n",
       "24613                      0.00     5138100           SP   São Paulo   \n",
       "36494                      0.16     6422120           SP     Barueri   \n",
       "\n",
       "      destination_zip destination_state destination_city        date  \n",
       "24613        95720000                RS        Garibaldi  2015-09-23  \n",
       "36494        24210200                RJ          Niterói  2020-03-13  "
      ]
     },
     "execution_count": 3,
     "metadata": {},
     "output_type": "execute_result"
    }
   ],
   "source": [
    "#checking range of dates aka 'purchase_timestamp'\n",
    "df['purchase_timestamp'] = pd.to_datetime(df['purchase_timestamp'])  \n",
    "df['date'] = df['purchase_timestamp'].dt.date\n",
    "df.sort_values('purchase_timestamp').iloc[[0,-1]]"
   ]
  },
  {
   "cell_type": "code",
   "execution_count": 4,
   "metadata": {},
   "outputs": [
    {
     "data": {
      "text/html": [
       "<div>\n",
       "<style scoped>\n",
       "    .dataframe tbody tr th:only-of-type {\n",
       "        vertical-align: middle;\n",
       "    }\n",
       "\n",
       "    .dataframe tbody tr th {\n",
       "        vertical-align: top;\n",
       "    }\n",
       "\n",
       "    .dataframe thead th {\n",
       "        text-align: right;\n",
       "    }\n",
       "</style>\n",
       "<table border=\"1\" class=\"dataframe\">\n",
       "  <thead>\n",
       "    <tr style=\"text-align: right;\">\n",
       "      <th></th>\n",
       "      <th>product_gtin</th>\n",
       "      <th>price</th>\n",
       "      <th>freight_value</th>\n",
       "      <th>price_freight_shift</th>\n",
       "      <th>commission_product_olist</th>\n",
       "      <th>commission_freight_olist</th>\n",
       "      <th>origin_zip</th>\n",
       "    </tr>\n",
       "  </thead>\n",
       "  <tbody>\n",
       "    <tr>\n",
       "      <th>count</th>\n",
       "      <td>4.099700e+04</td>\n",
       "      <td>40997.000000</td>\n",
       "      <td>40997.000000</td>\n",
       "      <td>40997.000000</td>\n",
       "      <td>40997.000000</td>\n",
       "      <td>40997.000000</td>\n",
       "      <td>4.099700e+04</td>\n",
       "    </tr>\n",
       "    <tr>\n",
       "      <th>mean</th>\n",
       "      <td>7.770114e+12</td>\n",
       "      <td>110.292697</td>\n",
       "      <td>18.431204</td>\n",
       "      <td>0.110380</td>\n",
       "      <td>0.192374</td>\n",
       "      <td>0.188754</td>\n",
       "      <td>2.015039e+07</td>\n",
       "    </tr>\n",
       "    <tr>\n",
       "      <th>std</th>\n",
       "      <td>3.374423e+12</td>\n",
       "      <td>139.258356</td>\n",
       "      <td>17.080063</td>\n",
       "      <td>1.511568</td>\n",
       "      <td>0.016219</td>\n",
       "      <td>0.030310</td>\n",
       "      <td>2.292874e+07</td>\n",
       "    </tr>\n",
       "    <tr>\n",
       "      <th>min</th>\n",
       "      <td>1.789851e+11</td>\n",
       "      <td>6.920000</td>\n",
       "      <td>0.000000</td>\n",
       "      <td>0.000000</td>\n",
       "      <td>0.090000</td>\n",
       "      <td>0.000000</td>\n",
       "      <td>1.021200e+06</td>\n",
       "    </tr>\n",
       "    <tr>\n",
       "      <th>25%</th>\n",
       "      <td>7.892509e+12</td>\n",
       "      <td>35.130000</td>\n",
       "      <td>8.530000</td>\n",
       "      <td>0.000000</td>\n",
       "      <td>0.190000</td>\n",
       "      <td>0.190000</td>\n",
       "      <td>4.782020e+06</td>\n",
       "    </tr>\n",
       "    <tr>\n",
       "      <th>50%</th>\n",
       "      <td>7.898555e+12</td>\n",
       "      <td>71.900000</td>\n",
       "      <td>16.220000</td>\n",
       "      <td>0.000000</td>\n",
       "      <td>0.200000</td>\n",
       "      <td>0.200000</td>\n",
       "      <td>1.308726e+07</td>\n",
       "    </tr>\n",
       "    <tr>\n",
       "      <th>75%</th>\n",
       "      <td>7.908244e+12</td>\n",
       "      <td>134.900000</td>\n",
       "      <td>23.110000</td>\n",
       "      <td>0.000000</td>\n",
       "      <td>0.200000</td>\n",
       "      <td>0.200000</td>\n",
       "      <td>2.494152e+07</td>\n",
       "    </tr>\n",
       "    <tr>\n",
       "      <th>max</th>\n",
       "      <td>7.891190e+13</td>\n",
       "      <td>5079.940000</td>\n",
       "      <td>344.700000</td>\n",
       "      <td>72.900000</td>\n",
       "      <td>0.250000</td>\n",
       "      <td>0.250000</td>\n",
       "      <td>9.950000e+07</td>\n",
       "    </tr>\n",
       "  </tbody>\n",
       "</table>\n",
       "</div>"
      ],
      "text/plain": [
       "       product_gtin         price  freight_value  price_freight_shift  \\\n",
       "count  4.099700e+04  40997.000000   40997.000000         40997.000000   \n",
       "mean   7.770114e+12    110.292697      18.431204             0.110380   \n",
       "std    3.374423e+12    139.258356      17.080063             1.511568   \n",
       "min    1.789851e+11      6.920000       0.000000             0.000000   \n",
       "25%    7.892509e+12     35.130000       8.530000             0.000000   \n",
       "50%    7.898555e+12     71.900000      16.220000             0.000000   \n",
       "75%    7.908244e+12    134.900000      23.110000             0.000000   \n",
       "max    7.891190e+13   5079.940000     344.700000            72.900000   \n",
       "\n",
       "       commission_product_olist  commission_freight_olist    origin_zip  \n",
       "count              40997.000000              40997.000000  4.099700e+04  \n",
       "mean                   0.192374                  0.188754  2.015039e+07  \n",
       "std                    0.016219                  0.030310  2.292874e+07  \n",
       "min                    0.090000                  0.000000  1.021200e+06  \n",
       "25%                    0.190000                  0.190000  4.782020e+06  \n",
       "50%                    0.200000                  0.200000  1.308726e+07  \n",
       "75%                    0.200000                  0.200000  2.494152e+07  \n",
       "max                    0.250000                  0.250000  9.950000e+07  "
      ]
     },
     "execution_count": 4,
     "metadata": {},
     "output_type": "execute_result"
    }
   ],
   "source": [
    "df.describe()"
   ]
  },
  {
   "cell_type": "markdown",
   "metadata": {},
   "source": [
    "We can see that there's no NaN in our dataset."
   ]
  },
  {
   "cell_type": "code",
   "execution_count": 5,
   "metadata": {},
   "outputs": [
    {
     "data": {
      "image/png": "[encoded data removed]",
      "text/plain": [
       "<Figure size 432x288 with 1 Axes>"
      ]
     },
     "metadata": {
      "needs_background": "light"
     },
     "output_type": "display_data"
    }
   ],
   "source": [
    "g = sns.boxplot(df['price'])\n",
    "g.set_xscale('log')"
   ]
  },
  {
   "cell_type": "code",
   "execution_count": 6,
   "metadata": {},
   "outputs": [
    {
     "data": {
      "image/png": "[encoded data removed]",
      "text/plain": [
       "<Figure size 432x288 with 1 Axes>"
      ]
     },
     "metadata": {
      "needs_background": "light"
     },
     "output_type": "display_data"
    }
   ],
   "source": [
    "g = sns.boxplot(df['freight_value'])\n",
    "g.set_xscale('log')"
   ]
  },
  {
   "cell_type": "markdown",
   "metadata": {},
   "source": [
    "The histograms and boxplots indicates a high dispersion of price and freight. For price, mostly of data are below 200 reais and for freight below 40 reais. Booth information were expected once Olist sell any kind of product, at any value. Perhaps a good approach to understand the data would be normalize them by each product_gtin."
   ]
  },
  {
   "cell_type": "code",
   "execution_count": 74,
   "metadata": {},
   "outputs": [
    {
     "name": "stderr",
     "output_type": "stream",
     "text": [
      "/Users/leonardogomescardoso/opt/anaconda3/envs/case_7.1/lib/python3.7/site-packages/numpy/lib/histograms.py:839: RuntimeWarning: invalid value encountered in greater_equal\n",
      "  keep = (tmp_a >= first_edge)\n",
      "/Users/leonardogomescardoso/opt/anaconda3/envs/case_7.1/lib/python3.7/site-packages/numpy/lib/histograms.py:840: RuntimeWarning: invalid value encountered in less_equal\n",
      "  keep &= (tmp_a <= last_edge)\n"
     ]
    },
    {
     "data": {
      "text/plain": [
       "(array([6895., 6043., 4177., 3038., 2796., 4492., 2095., 2825.,  884.,\n",
       "        6220.]),\n",
       " array([0. , 0.1, 0.2, 0.3, 0.4, 0.5, 0.6, 0.7, 0.8, 0.9, 1. ]),\n",
       " <a list of 10 Patch objects>)"
      ]
     },
     "execution_count": 74,
     "metadata": {},
     "output_type": "execute_result"
    },
    {
     "data": {
      "image/png": "[encoded data removed]",
      "text/plain": [
       "<Figure size 432x288 with 1 Axes>"
      ]
     },
     "metadata": {
      "needs_background": "light"
     },
     "output_type": "display_data"
    }
   ],
   "source": [
    "#groupby gtin, calculating min and max to normalize prices and check the distribution.\n",
    "df_min = df.groupby(['product_gtin'])['price'].min()\n",
    "df_max = df.groupby(['product_gtin'])['price'].max()\n",
    "df_norm = df[{'product_gtin','price'}]\n",
    "df_norm = df_norm.merge(df_max, on = 'product_gtin')\n",
    "df_norm = df_norm.merge(df_min, on = 'product_gtin')\n",
    "#price_x == original price, price_y == max price, price == min price. I dont know why its not working.\n",
    "df_norm['price_norm'] = (df_norm['price_x']-df_norm['price'])/(df_norm['price_y']- df_norm['price'])\n",
    "plt.hist(df_norm['price_norm'])"
   ]
  },
  {
   "cell_type": "code",
   "execution_count": 77,
   "metadata": {},
   "outputs": [
    {
     "data": {
      "image/png": "[encoded data removed]",
      "text/plain": [
       "<Figure size 432x288 with 1 Axes>"
      ]
     },
     "metadata": {
      "needs_background": "light"
     },
     "output_type": "display_data"
    }
   ],
   "source": [
    "g = sns.boxplot(df_norm['price_norm'])\n"
   ]
  },
  {
   "cell_type": "markdown",
   "metadata": {},
   "source": [
    "considering prices of all data range, we can see they are close the minimum."
   ]
  },
  {
   "cell_type": "code",
   "execution_count": 75,
   "metadata": {},
   "outputs": [
    {
     "data": {
      "text/html": [
       "<div>\n",
       "<style scoped>\n",
       "    .dataframe tbody tr th:only-of-type {\n",
       "        vertical-align: middle;\n",
       "    }\n",
       "\n",
       "    .dataframe tbody tr th {\n",
       "        vertical-align: top;\n",
       "    }\n",
       "\n",
       "    .dataframe thead th {\n",
       "        text-align: right;\n",
       "    }\n",
       "</style>\n",
       "<table border=\"1\" class=\"dataframe\">\n",
       "  <thead>\n",
       "    <tr style=\"text-align: right;\">\n",
       "      <th></th>\n",
       "      <th>product_gtin</th>\n",
       "      <th>n_orders</th>\n",
       "      <th>share</th>\n",
       "      <th>rank</th>\n",
       "    </tr>\n",
       "  </thead>\n",
       "  <tbody>\n",
       "    <tr>\n",
       "      <th>0</th>\n",
       "      <td>8800550956404</td>\n",
       "      <td>2859</td>\n",
       "      <td>6.973681</td>\n",
       "      <td>1</td>\n",
       "    </tr>\n",
       "    <tr>\n",
       "      <th>1</th>\n",
       "      <td>7899495703106</td>\n",
       "      <td>2079</td>\n",
       "      <td>5.071103</td>\n",
       "      <td>2</td>\n",
       "    </tr>\n",
       "    <tr>\n",
       "      <th>2</th>\n",
       "      <td>7909389621864</td>\n",
       "      <td>1999</td>\n",
       "      <td>4.875967</td>\n",
       "      <td>3</td>\n",
       "    </tr>\n",
       "    <tr>\n",
       "      <th>3</th>\n",
       "      <td>7895099385786</td>\n",
       "      <td>1652</td>\n",
       "      <td>4.029563</td>\n",
       "      <td>4</td>\n",
       "    </tr>\n",
       "    <tr>\n",
       "      <th>4</th>\n",
       "      <td>7892049060281</td>\n",
       "      <td>1614</td>\n",
       "      <td>3.936873</td>\n",
       "      <td>5</td>\n",
       "    </tr>\n",
       "  </tbody>\n",
       "</table>\n",
       "</div>"
      ],
      "text/plain": [
       "    product_gtin  n_orders     share  rank\n",
       "0  8800550956404      2859  6.973681     1\n",
       "1  7899495703106      2079  5.071103     2\n",
       "2  7909389621864      1999  4.875967     3\n",
       "3  7895099385786      1652  4.029563     4\n",
       "4  7892049060281      1614  3.936873     5"
      ]
     },
     "execution_count": 75,
     "metadata": {},
     "output_type": "execute_result"
    }
   ],
   "source": [
    "#Looking for the most frequent orders bby gtin.\n",
    "#Here, we don't have the information of how many units was each order.\n",
    "#As at least one product was sold at each order, I considered that I sell one product by order.\n",
    "#I choose an random column to count the rows and identify how many orders we have for each gtin\n",
    "df_ordersbygtin = df.groupby(by=['product_gtin'])['seller_id'].count().sort_values(ascending = False).to_frame().rename(columns={'seller_id': 'n_orders'})\n",
    "df_ordersbygtin = df_ordersbygtin.reset_index()\n",
    "df_ordersbygtin['share'] = df_ordersbygtin['n_orders']/df_ordersbygtin['n_orders'].sum() * 100\n",
    "df_ordersbygtin['rank'] = df_ordersbygtin['share'].rank(method = 'first', ascending = False).astype(int)\n",
    "df_ordersbygtin.head()"
   ]
  },
  {
   "cell_type": "code",
   "execution_count": 89,
   "metadata": {},
   "outputs": [
    {
     "data": {
      "text/plain": [
       "647"
      ]
     },
     "execution_count": 89,
     "metadata": {},
     "output_type": "execute_result"
    }
   ],
   "source": [
    "df['product_gtin'].nunique()"
   ]
  },
  {
   "cell_type": "code",
   "execution_count": 88,
   "metadata": {},
   "outputs": [
    {
     "data": {
      "text/plain": [
       "48.86455106471205"
      ]
     },
     "execution_count": 88,
     "metadata": {},
     "output_type": "execute_result"
    }
   ],
   "source": [
    "df_ordersbygtin['share'][df_ordersbygtin['rank'] <= 20].sum()"
   ]
  },
  {
   "cell_type": "markdown",
   "metadata": {},
   "source": [
    "the top 20 (3%) products concentrates almost 50% of the orders"
   ]
  },
  {
   "cell_type": "code",
   "execution_count": 84,
   "metadata": {},
   "outputs": [
    {
     "data": {
      "text/plain": [
       "52.62487671893607"
      ]
     },
     "execution_count": 84,
     "metadata": {},
     "output_type": "execute_result"
    }
   ],
   "source": [
    "df_ordersbyrev = df.groupby(by=['product_gtin'])['price'].sum().sort_values(ascending = False).to_frame().rename(columns={'price': 'revenue'})\n",
    "df_ordersbyrev = df_ordersbyrev.reset_index()\n",
    "df_ordersbyrev['share'] = df_ordersbyrev['revenue']/df_ordersbyrev['revenue'].sum() * 100\n",
    "df_ordersbyrev['rank'] = df_ordersbyrev['share'].rank(method = 'first', ascending = False).astype(int)\n",
    "df_ordersbyrev['share'][df_ordersbyrev['rank'] <= 20].sum()\n"
   ]
  },
  {
   "cell_type": "markdown",
   "metadata": {},
   "source": [
    "The top 20 products (3%) concentrates more than 50% of revenues"
   ]
  }
 ],
 "metadata": {
  "kernelspec": {
   "display_name": "Python 3",
   "language": "python",
   "name": "python3"
  },
  "language_info": {
   "codemirror_mode": {
    "name": "ipython",
    "version": 3
   },
   "file_extension": ".py",
   "mimetype": "text/x-python",
   "name": "python",
   "nbconvert_exporter": "python",
   "pygments_lexer": "ipython3",
   "version": "3.7.6"
  }
 },
 "nbformat": 4,
 "nbformat_minor": 4
}
